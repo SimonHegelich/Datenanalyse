{
 "cells": [
  {
   "cell_type": "markdown",
   "id": "fa01e007",
   "metadata": {},
   "source": [
    "# Programmierübung: <font color='darkorange'> Einführung in R </font>\n",
    "\n",
    "##### <font color='darkorange'> Datenanalyse, Sommersemester 2021, Lehrstuhl für Political Data Science </font>\n",
    "###### <font color='grey'> Disclaimer: Dieses Jupyter Notebooks sind als zusätzliches Material gedacht. Daher ersetzen sie nicht die Inhalte der Vorlesung oder Übung. Auch bilden sie nicht vollständig die Befehle ab, die in der Pflichtlektüre eingeführt werden und ersetzen diese damit nicht. Die zusätzlichen Links, die zur Verfügung gestellt werden, dienen als hilfreiche Stützen, allerdings wird ihre Vollständigkeit und Korrektheit nicht überprüft. </font>"
   ]
  },
  {
   "cell_type": "markdown",
   "id": "e1e26cd5",
   "metadata": {},
   "source": [
    "###  1. Grundlegende Befehle"
   ]
  },
  {
   "cell_type": "markdown",
   "id": "eb16ea1b",
   "metadata": {},
   "source": [
    "Zunächst einmal ist es wichtig grundlegende Befehle zu verstehen. Mithilfe von Programmen wie R werden häufig quantitative statistische Analysen durchgeführt. Wichtig dafür ist das Erstellen von Datensätzen. Im einfachsten Fall können dazu Objekte mit dem $c()$-Befehl verbunden werden. Um sie weiterhin gebrauchen zu können, speichern wir sie in einem Vektor entweder mit $<-$ oder $=$ ab.\n",
    "\n",
    "Diese Vektoren können verbunden werden: so durch einfache arithmetische Ausdrücke wie die Addition von zwei Vektoren oder aber auch in Matrizen.\n",
    "\n",
    "Außerdem können mit dem Befehl $rnorm()$ zufällige Zahlen ausgesucht werden."
   ]
  },
  {
   "cell_type": "code",
   "execution_count": 3,
   "id": "442a93f1",
   "metadata": {},
   "outputs": [
    {
     "name": "stdout",
     "output_type": "stream",
     "text": [
      "[1] 1 2 3\n",
      "[1] 3\n",
      "[1] 4 5 6\n",
      "[1] 5 7 9\n"
     ]
    },
    {
     "data": {
      "text/html": [
       "<ol class=list-inline>\n",
       "\t<li>1</li>\n",
       "\t<li>2</li>\n",
       "\t<li>3</li>\n",
       "\t<li>4</li>\n",
       "</ol>\n"
      ],
      "text/latex": [
       "\\begin{enumerate*}\n",
       "\\item 1\n",
       "\\item 2\n",
       "\\item 3\n",
       "\\item 4\n",
       "\\end{enumerate*}\n"
      ],
      "text/markdown": [
       "1. 1\n",
       "2. 2\n",
       "3. 3\n",
       "4. 4\n",
       "\n",
       "\n"
      ],
      "text/plain": [
       "[1] 1 2 3 4"
      ]
     },
     "metadata": {},
     "output_type": "display_data"
    },
    {
     "name": "stdout",
     "output_type": "stream",
     "text": [
      "[1] \"The Magic Number is:\" \"4\"                    \"2\"                   \n"
     ]
    }
   ],
   "source": [
    "x <- c(1,2,3)\n",
    "y <- c(4,5,6)\n",
    "z <- \"The Magic Number is:\"\n",
    "print(x)\n",
    "print(length(x)) ## Gibt die Länge des Vektors aus\n",
    "print(y)\n",
    "print(x + y)\n",
    "seq(1:4)\n",
    "\n",
    "print(c(z,y[1],x[2]))"
   ]
  },
  {
   "cell_type": "code",
   "execution_count": 4,
   "id": "d16ce6d6",
   "metadata": {},
   "outputs": [
    {
     "data": {
      "text/html": [
       "<ol class=list-inline>\n",
       "\t<li>1</li>\n",
       "\t<li>2</li>\n",
       "\t<li>3</li>\n",
       "\t<li>4</li>\n",
       "\t<li>5</li>\n",
       "</ol>\n"
      ],
      "text/latex": [
       "\\begin{enumerate*}\n",
       "\\item 1\n",
       "\\item 2\n",
       "\\item 3\n",
       "\\item 4\n",
       "\\item 5\n",
       "\\end{enumerate*}\n"
      ],
      "text/markdown": [
       "1. 1\n",
       "2. 2\n",
       "3. 3\n",
       "4. 4\n",
       "5. 5\n",
       "\n",
       "\n"
      ],
      "text/plain": [
       "[1] 1 2 3 4 5"
      ]
     },
     "metadata": {},
     "output_type": "display_data"
    },
    {
     "data": {
      "text/html": [
       "<ol class=list-inline>\n",
       "\t<li>1</li>\n",
       "\t<li>1.44444444444444</li>\n",
       "\t<li>1.88888888888889</li>\n",
       "\t<li>2.33333333333333</li>\n",
       "\t<li>2.77777777777778</li>\n",
       "\t<li>3.22222222222222</li>\n",
       "\t<li>3.66666666666667</li>\n",
       "\t<li>4.11111111111111</li>\n",
       "\t<li>4.55555555555556</li>\n",
       "\t<li>5</li>\n",
       "</ol>\n"
      ],
      "text/latex": [
       "\\begin{enumerate*}\n",
       "\\item 1\n",
       "\\item 1.44444444444444\n",
       "\\item 1.88888888888889\n",
       "\\item 2.33333333333333\n",
       "\\item 2.77777777777778\n",
       "\\item 3.22222222222222\n",
       "\\item 3.66666666666667\n",
       "\\item 4.11111111111111\n",
       "\\item 4.55555555555556\n",
       "\\item 5\n",
       "\\end{enumerate*}\n"
      ],
      "text/markdown": [
       "1. 1\n",
       "2. 1.44444444444444\n",
       "3. 1.88888888888889\n",
       "4. 2.33333333333333\n",
       "5. 2.77777777777778\n",
       "6. 3.22222222222222\n",
       "7. 3.66666666666667\n",
       "8. 4.11111111111111\n",
       "9. 4.55555555555556\n",
       "10. 5\n",
       "\n",
       "\n"
      ],
      "text/plain": [
       " [1] 1.000000 1.444444 1.888889 2.333333 2.777778 3.222222 3.666667 4.111111\n",
       " [9] 4.555556 5.000000"
      ]
     },
     "metadata": {},
     "output_type": "display_data"
    }
   ],
   "source": [
    "seq(1,5)\n",
    "seq(1,5, length = 10)"
   ]
  },
  {
   "cell_type": "code",
   "execution_count": 5,
   "id": "ddd6ec57",
   "metadata": {},
   "outputs": [
    {
     "data": {
      "text/html": [
       "<ol class=list-inline>\n",
       "\t<li>-0.262794227152696</li>\n",
       "\t<li>-0.107591026585645</li>\n",
       "\t<li>0.570552803162566</li>\n",
       "\t<li>-1.76888725082709</li>\n",
       "</ol>\n"
      ],
      "text/latex": [
       "\\begin{enumerate*}\n",
       "\\item -0.262794227152696\n",
       "\\item -0.107591026585645\n",
       "\\item 0.570552803162566\n",
       "\\item -1.76888725082709\n",
       "\\end{enumerate*}\n"
      ],
      "text/markdown": [
       "1. -0.262794227152696\n",
       "2. -0.107591026585645\n",
       "3. 0.570552803162566\n",
       "4. -1.76888725082709\n",
       "\n",
       "\n"
      ],
      "text/plain": [
       "[1] -0.2627942 -0.1075910  0.5705528 -1.7688873"
      ]
     },
     "metadata": {},
     "output_type": "display_data"
    },
    {
     "data": {
      "text/html": [
       "<ol class=list-inline>\n",
       "\t<li>1.54826180102676</li>\n",
       "\t<li>-0.304851891454054</li>\n",
       "\t<li>-0.255364391741347</li>\n",
       "\t<li>0.0492942820314424</li>\n",
       "</ol>\n"
      ],
      "text/latex": [
       "\\begin{enumerate*}\n",
       "\\item 1.54826180102676\n",
       "\\item -0.304851891454054\n",
       "\\item -0.255364391741347\n",
       "\\item 0.0492942820314424\n",
       "\\end{enumerate*}\n"
      ],
      "text/markdown": [
       "1. 1.54826180102676\n",
       "2. -0.304851891454054\n",
       "3. -0.255364391741347\n",
       "4. 0.0492942820314424\n",
       "\n",
       "\n"
      ],
      "text/plain": [
       "[1]  1.54826180 -0.30485189 -0.25536439  0.04929428"
      ]
     },
     "metadata": {},
     "output_type": "display_data"
    }
   ],
   "source": [
    "rnorm(4)\n",
    "rnorm(4)"
   ]
  },
  {
   "cell_type": "code",
   "execution_count": 7,
   "id": "6fc8ac68",
   "metadata": {},
   "outputs": [
    {
     "name": "stdout",
     "output_type": "stream",
     "text": [
      "     [,1] [,2]\n",
      "[1,]    1    3\n",
      "[2,]    2    4\n",
      "         [,1]     [,2]\n",
      "[1,] 1.000000 1.732051\n",
      "[2,] 1.414214 2.000000\n",
      "     [,1] [,2] [,3] [,4]\n",
      "[1,]    1    1    1    1\n",
      "[2,]    2    2    2    2\n"
     ]
    }
   ],
   "source": [
    "a = matrix(data=c(1,2,3,4), nrow=2, ncol=2)\n",
    "a_sq = sqrt(a)\n",
    "b = matrix(data=c(1,1,1,1,2,2,2,2), nrow = 2, ncol = 4, byrow = T)\n",
    "\n",
    "print(a)\n",
    "print(a_sq)\n",
    "print(b)"
   ]
  },
  {
   "cell_type": "markdown",
   "id": "867f5103",
   "metadata": {},
   "source": [
    "#### Indizes\n",
    "In eckigen Klammern $[ ]$ hinter der Matrix kann angegeben werden, welche Einträge ausgegeben oder verwendet werden sollen. Dabei kann man sowohl auf ganze Zeilen oder Spalten, als auch auf einzelne Einträge zugreifen. \n",
    "\n",
    "Wichtig ist dabei mit welcher Zahl begonnen wird zu zählen. Während der erste Eintrag in einem Vektor in **R** mit einer **1** ausgegeben wird, beginnt man beispielsweise in **Python** mit der **0** zu zählen."
   ]
  },
  {
   "cell_type": "code",
   "execution_count": 8,
   "id": "f5cc7ec5",
   "metadata": {},
   "outputs": [
    {
     "data": {
      "text/html": [
       "<ol class=list-inline>\n",
       "\t<li>1.73205080756888</li>\n",
       "\t<li>2</li>\n",
       "</ol>\n"
      ],
      "text/latex": [
       "\\begin{enumerate*}\n",
       "\\item 1.73205080756888\n",
       "\\item 2\n",
       "\\end{enumerate*}\n"
      ],
      "text/markdown": [
       "1. 1.73205080756888\n",
       "2. 2\n",
       "\n",
       "\n"
      ],
      "text/plain": [
       "[1] 1.732051 2.000000"
      ]
     },
     "metadata": {},
     "output_type": "display_data"
    },
    {
     "data": {
      "text/html": [
       "1.4142135623731"
      ],
      "text/latex": [
       "1.4142135623731"
      ],
      "text/markdown": [
       "1.4142135623731"
      ],
      "text/plain": [
       "[1] 1.414214"
      ]
     },
     "metadata": {},
     "output_type": "display_data"
    },
    {
     "name": "stdout",
     "output_type": "stream",
     "text": [
      "[1] 3.146264\n"
     ]
    }
   ],
   "source": [
    "a_sq[ ,2] #Gibt Spalte zwei aus\n",
    "a_sq[2,1] #Gibt den Eintrag in Zeile 2, Spalte 1 aus\n",
    "print(a_sq[2,1] + a_sq[1,2])"
   ]
  },
  {
   "cell_type": "code",
   "execution_count": 9,
   "id": "fbb2f1c8",
   "metadata": {},
   "outputs": [
    {
     "name": "stdout",
     "output_type": "stream",
     "text": [
      "     [,1] [,2] [,3]\n",
      "[1,]    1    4    7\n",
      "[2,]    2    5    8\n",
      "[3,]    3    6    9\n"
     ]
    },
    {
     "data": {
      "text/html": [
       "<table>\n",
       "<tbody>\n",
       "\t<tr><td>5</td><td>8</td></tr>\n",
       "\t<tr><td>6</td><td>9</td></tr>\n",
       "</tbody>\n",
       "</table>\n"
      ],
      "text/latex": [
       "\\begin{tabular}{ll}\n",
       "\t 5 & 8\\\\\n",
       "\t 6 & 9\\\\\n",
       "\\end{tabular}\n"
      ],
      "text/markdown": [
       "\n",
       "| 5 | 8 |\n",
       "| 6 | 9 |\n",
       "\n"
      ],
      "text/plain": [
       "     [,1] [,2]\n",
       "[1,] 5    8   \n",
       "[2,] 6    9   "
      ]
     },
     "metadata": {},
     "output_type": "display_data"
    },
    {
     "data": {
      "text/html": [
       "<table>\n",
       "<tbody>\n",
       "\t<tr><td>1</td><td>4</td><td>7</td></tr>\n",
       "\t<tr><td>2</td><td>5</td><td>8</td></tr>\n",
       "</tbody>\n",
       "</table>\n"
      ],
      "text/latex": [
       "\\begin{tabular}{lll}\n",
       "\t 1 & 4 & 7\\\\\n",
       "\t 2 & 5 & 8\\\\\n",
       "\\end{tabular}\n"
      ],
      "text/markdown": [
       "\n",
       "| 1 | 4 | 7 |\n",
       "| 2 | 5 | 8 |\n",
       "\n"
      ],
      "text/plain": [
       "     [,1] [,2] [,3]\n",
       "[1,] 1    4    7   \n",
       "[2,] 2    5    8   "
      ]
     },
     "metadata": {},
     "output_type": "display_data"
    }
   ],
   "source": [
    "A = matrix(1:9, c(3,3))\n",
    "print(A)\n",
    "\n",
    "A[c(2,3),c(2,3)]\n",
    "A[-c(3,3),]"
   ]
  },
  {
   "cell_type": "markdown",
   "id": "7f99836c",
   "metadata": {},
   "source": [
    "#### Überblick über die Variablen"
   ]
  },
  {
   "cell_type": "markdown",
   "id": "17ab28a4",
   "metadata": {},
   "source": [
    "Um zu sehen, welche Variablen bereits erstellt wurden, kann man diese mit dem Befehl $ls()$ ausgeben und mit rm() löschen."
   ]
  },
  {
   "cell_type": "code",
   "execution_count": 7,
   "id": "f4ba69d2",
   "metadata": {},
   "outputs": [
    {
     "data": {
      "text/html": [
       "<ol class=list-inline>\n",
       "\t<li>'a'</li>\n",
       "\t<li>'A'</li>\n",
       "\t<li>'a_sq'</li>\n",
       "\t<li>'b'</li>\n",
       "\t<li>'x'</li>\n",
       "\t<li>'y'</li>\n",
       "\t<li>'z'</li>\n",
       "</ol>\n"
      ],
      "text/latex": [
       "\\begin{enumerate*}\n",
       "\\item 'a'\n",
       "\\item 'A'\n",
       "\\item 'a\\_sq'\n",
       "\\item 'b'\n",
       "\\item 'x'\n",
       "\\item 'y'\n",
       "\\item 'z'\n",
       "\\end{enumerate*}\n"
      ],
      "text/markdown": [
       "1. 'a'\n",
       "2. 'A'\n",
       "3. 'a_sq'\n",
       "4. 'b'\n",
       "5. 'x'\n",
       "6. 'y'\n",
       "7. 'z'\n",
       "\n",
       "\n"
      ],
      "text/plain": [
       "[1] \"a\"    \"A\"    \"a_sq\" \"b\"    \"x\"    \"y\"    \"z\"   "
      ]
     },
     "metadata": {},
     "output_type": "display_data"
    }
   ],
   "source": [
    "ls()"
   ]
  },
  {
   "cell_type": "code",
   "execution_count": 8,
   "id": "e9b2d428",
   "metadata": {},
   "outputs": [
    {
     "name": "stdout",
     "output_type": "stream",
     "text": [
      "[1] \"a\"    \"A\"    \"a_sq\" \"b\"    \"y\"    \"z\"   \n"
     ]
    }
   ],
   "source": [
    "rm(x)\n",
    "print(ls())"
   ]
  },
  {
   "cell_type": "markdown",
   "id": "4a078692",
   "metadata": {},
   "source": [
    "### 2. Laden von Datensätzen"
   ]
  },
  {
   "cell_type": "markdown",
   "id": "a0c0cef1",
   "metadata": {},
   "source": [
    "Einer der wichtigsten Schritte zur Analyse von Daten in R ist das Laden von Datensätzen. \n",
    "Die vorgegebene Pflichtlektüre ist das Buch \"An Introduction to Statistical Learning\" von Gareth James, Daniela Witten, Trecor Hastie und Robert Tibshirani. In ihrem Buch gibt es zu jedem Bereich eine Implementierung des Lerninhalts in R. Dazu sind auf ihrer Webseite auch die dazugehörigen Datensätze erhältlich.\n",
    "\n",
    "[Link zum Buch](https://www.statlearning.com/)\n",
    "\n",
    "[Link zu den Datensätzen](https://www.statlearning.com/resources-first-edition)\n",
    "\n",
    "Weitere Informationen zu den Datensätzen sind im Buch auf Seite 13 und 14 zu finden. Weitere Informationen zum Laden von Daten sind auf Seite 48 und 49 zu finden.\n",
    "\n",
    "<font color='darkorange'> Nun zum praktischen Teil:</font> wir möchten im folgenden den Datensatz \"Auto\" in dieses Jupyter Notebook laden. \n",
    "1) Zunächst speichern wir die Datei lokal im gleichen Ordner ab, wie das Juypiter Notebook. Insbesondere $.csv$ Dateien eigenen sich zur Analyse in R.\n",
    "\n",
    "2) Dann kann die Datei mit dem $read$.$csv$-Befehl in das Notebook geladen werden.\n",
    "\n",
    "3) Zudem wird der Datensatz hier in einer Variable gespeichert, die ich der einfachheithalber $Auto$ nenne. "
   ]
  },
  {
   "cell_type": "code",
   "execution_count": 11,
   "id": "183ee6ac",
   "metadata": {},
   "outputs": [],
   "source": [
    "Auto <- read.csv(\"Auto.csv\", stringsAsFactors = FALSE)"
   ]
  },
  {
   "cell_type": "markdown",
   "id": "f88c3bd4",
   "metadata": {},
   "source": [
    "#### Erste Betrachtungen: Dimensionen, Variablennamen, ..."
   ]
  },
  {
   "cell_type": "markdown",
   "id": "ce263e7b",
   "metadata": {},
   "source": [
    "Ein erster wichtiger Schritt um mit einem noch unbekannten Datensatz zu arbeiten, ist seine Dimensionen zu betrachten. Dabei wird immer zunächst die Zeile, dann die Spalte angegeben.\n",
    "Außerdem ist es häufig wichtig den Variablentyp herauszufinden, da dieser die Wahl des statistischen Modells beeinflusst. Dies kann mit dem Befehl $class$ herausgefunden werden. \n",
    "\n",
    "Weitere Informationen zu häufigen Datentypen sind u.a. hier zu finden: [Datentypen in R](https://databraineo.com/ki-training-resources/r-programmierung/datentypen-in-r-einfach-erklaert/)\n",
    "\n",
    "Die gesamt Struktur kann mit dem Befehlt $str$ ausgegeben werden."
   ]
  },
  {
   "cell_type": "code",
   "execution_count": 12,
   "id": "3759548c",
   "metadata": {},
   "outputs": [
    {
     "data": {
      "text/html": [
       "<ol class=list-inline>\n",
       "\t<li>397</li>\n",
       "\t<li>9</li>\n",
       "</ol>\n"
      ],
      "text/latex": [
       "\\begin{enumerate*}\n",
       "\\item 397\n",
       "\\item 9\n",
       "\\end{enumerate*}\n"
      ],
      "text/markdown": [
       "1. 397\n",
       "2. 9\n",
       "\n",
       "\n"
      ],
      "text/plain": [
       "[1] 397   9"
      ]
     },
     "metadata": {},
     "output_type": "display_data"
    },
    {
     "data": {
      "text/html": [
       "9"
      ],
      "text/latex": [
       "9"
      ],
      "text/markdown": [
       "9"
      ],
      "text/plain": [
       "[1] 9"
      ]
     },
     "metadata": {},
     "output_type": "display_data"
    }
   ],
   "source": [
    "dim(Auto)\n",
    "dim(Auto)[2]"
   ]
  },
  {
   "cell_type": "code",
   "execution_count": 13,
   "id": "cac7c20f",
   "metadata": {},
   "outputs": [
    {
     "data": {
      "text/html": [
       "'numeric'"
      ],
      "text/latex": [
       "'numeric'"
      ],
      "text/markdown": [
       "'numeric'"
      ],
      "text/plain": [
       "[1] \"numeric\""
      ]
     },
     "metadata": {},
     "output_type": "display_data"
    },
    {
     "data": {
      "text/html": [
       "'character'"
      ],
      "text/latex": [
       "'character'"
      ],
      "text/markdown": [
       "'character'"
      ],
      "text/plain": [
       "[1] \"character\""
      ]
     },
     "metadata": {},
     "output_type": "display_data"
    }
   ],
   "source": [
    "class(Auto$mpg)\n",
    "class(Auto$name)"
   ]
  },
  {
   "cell_type": "code",
   "execution_count": 14,
   "id": "7fff1c86",
   "metadata": {},
   "outputs": [
    {
     "name": "stdout",
     "output_type": "stream",
     "text": [
      "'data.frame':\t397 obs. of  9 variables:\n",
      " $ mpg         : num  18 15 18 16 17 15 14 14 14 15 ...\n",
      " $ cylinders   : int  8 8 8 8 8 8 8 8 8 8 ...\n",
      " $ displacement: num  307 350 318 304 302 429 454 440 455 390 ...\n",
      " $ horsepower  : chr  \"130\" \"165\" \"150\" \"150\" ...\n",
      " $ weight      : int  3504 3693 3436 3433 3449 4341 4354 4312 4425 3850 ...\n",
      " $ acceleration: num  12 11.5 11 12 10.5 10 9 8.5 10 8.5 ...\n",
      " $ year        : int  70 70 70 70 70 70 70 70 70 70 ...\n",
      " $ origin      : int  1 1 1 1 1 1 1 1 1 1 ...\n",
      " $ name        : chr  \"chevrolet chevelle malibu\" \"buick skylark 320\" \"plymouth satellite\" \"amc rebel sst\" ...\n"
     ]
    }
   ],
   "source": [
    "str(Auto) "
   ]
  },
  {
   "cell_type": "markdown",
   "id": "3a450a53",
   "metadata": {},
   "source": [
    "Hinter dem : wird hierbei wieder die Klasse angegeben. Zudem werden die ersten Einträge angezeigt. Außerdem können wir an dieser Darstellung bereits sehen, wie einzelne Variablen ausgewählt werden: dafür wird der Datensatz und der Variablen mit einem $\\$$ verbunden. So z.B. $Auto\\$mpg$.\n",
    "\n",
    "Der Variablentyp kann auch verändert werden. So kann man z.B. aus der Variable \"horsepower\", die bislang als \"Character\" gespeichert war, den  Typ \"Numeric\" machen. Wenn die Daten, im Format \"Character\" gespeichert werden, werden sie wie ein Wort behandelt. Daher funktioniert die Division nicht. Nachdem wir sie aber zu \"Numeric\" umgewandelt haben, entsprechen sie  einer Zahl und können dividiert werden."
   ]
  },
  {
   "cell_type": "code",
   "execution_count": 15,
   "id": "cd4d3c2b",
   "metadata": {},
   "outputs": [
    {
     "data": {
      "text/html": [
       "<ol class=list-inline>\n",
       "\t<li>'130'</li>\n",
       "\t<li>'165'</li>\n",
       "\t<li>'150'</li>\n",
       "\t<li>'150'</li>\n",
       "\t<li>'140'</li>\n",
       "\t<li>'198'</li>\n",
       "</ol>\n"
      ],
      "text/latex": [
       "\\begin{enumerate*}\n",
       "\\item '130'\n",
       "\\item '165'\n",
       "\\item '150'\n",
       "\\item '150'\n",
       "\\item '140'\n",
       "\\item '198'\n",
       "\\end{enumerate*}\n"
      ],
      "text/markdown": [
       "1. '130'\n",
       "2. '165'\n",
       "3. '150'\n",
       "4. '150'\n",
       "5. '140'\n",
       "6. '198'\n",
       "\n",
       "\n"
      ],
      "text/plain": [
       "[1] \"130\" \"165\" \"150\" \"150\" \"140\" \"198\""
      ]
     },
     "metadata": {},
     "output_type": "display_data"
    },
    {
     "data": {
      "text/html": [
       "'150'"
      ],
      "text/latex": [
       "'150'"
      ],
      "text/markdown": [
       "'150'"
      ],
      "text/plain": [
       "[1] \"150\""
      ]
     },
     "metadata": {},
     "output_type": "display_data"
    },
    {
     "ename": "ERROR",
     "evalue": "Error in Auto$horsepower[3]/50: nicht-numerisches Argument für binären Operator\n",
     "output_type": "error",
     "traceback": [
      "Error in Auto$horsepower[3]/50: nicht-numerisches Argument für binären Operator\nTraceback:\n"
     ]
    }
   ],
   "source": [
    "head(Auto$horsepower)\n",
    "Auto$horsepower[3]\n",
    "Auto$horsepower[3]/50"
   ]
  },
  {
   "cell_type": "code",
   "execution_count": 16,
   "id": "819f1d6a",
   "metadata": {},
   "outputs": [
    {
     "data": {
      "text/html": [
       "3"
      ],
      "text/latex": [
       "3"
      ],
      "text/markdown": [
       "3"
      ],
      "text/plain": [
       "[1] 3"
      ]
     },
     "metadata": {},
     "output_type": "display_data"
    }
   ],
   "source": [
    "as.numeric(Auto$horsepower[3])/50"
   ]
  },
  {
   "cell_type": "markdown",
   "id": "ac1f6319",
   "metadata": {},
   "source": [
    "Weitere Informationen können mit dem Befehl  𝑠𝑢𝑚𝑚𝑎𝑟𝑦  ausgegeben werden. So z.B. auch der Mittelwert, der Median, sowie das Minimum, Maximum oder die Quantile."
   ]
  },
  {
   "cell_type": "code",
   "execution_count": 17,
   "id": "a43b2e4b",
   "metadata": {},
   "outputs": [
    {
     "data": {
      "text/plain": [
       "      mpg          cylinders      displacement    horsepower       \n",
       " Min.   : 9.00   Min.   :3.000   Min.   : 68.0   Length:397        \n",
       " 1st Qu.:17.50   1st Qu.:4.000   1st Qu.:104.0   Class :character  \n",
       " Median :23.00   Median :4.000   Median :146.0   Mode  :character  \n",
       " Mean   :23.52   Mean   :5.458   Mean   :193.5                     \n",
       " 3rd Qu.:29.00   3rd Qu.:8.000   3rd Qu.:262.0                     \n",
       " Max.   :46.60   Max.   :8.000   Max.   :455.0                     \n",
       "     weight      acceleration        year           origin     \n",
       " Min.   :1613   Min.   : 8.00   Min.   :70.00   Min.   :1.000  \n",
       " 1st Qu.:2223   1st Qu.:13.80   1st Qu.:73.00   1st Qu.:1.000  \n",
       " Median :2800   Median :15.50   Median :76.00   Median :1.000  \n",
       " Mean   :2970   Mean   :15.56   Mean   :75.99   Mean   :1.574  \n",
       " 3rd Qu.:3609   3rd Qu.:17.10   3rd Qu.:79.00   3rd Qu.:2.000  \n",
       " Max.   :5140   Max.   :24.80   Max.   :82.00   Max.   :3.000  \n",
       "     name          \n",
       " Length:397        \n",
       " Class :character  \n",
       " Mode  :character  \n",
       "                   \n",
       "                   \n",
       "                   "
      ]
     },
     "metadata": {},
     "output_type": "display_data"
    }
   ],
   "source": [
    "summary(Auto)"
   ]
  },
  {
   "cell_type": "code",
   "execution_count": 18,
   "id": "f46e00c4",
   "metadata": {},
   "outputs": [
    {
     "name": "stdout",
     "output_type": "stream",
     "text": [
      "[1] 18 15 18 16 17 15 14\n"
     ]
    }
   ],
   "source": [
    "print((Auto$mpg)[1:7])"
   ]
  },
  {
   "cell_type": "markdown",
   "id": "74858807",
   "metadata": {},
   "source": [
    "Um die ersten Zeilen des Datensatzes auszugeben, kann der Befehl $head$ verwendet werden. Dabei kann angegeben werden, wie viele Zeilen ausgegeben werden sollen. Viele der Befehle haben zusätzliche Parameter, wie hier $n=7$ um die Befehle weiter zu spezifizieren. Um eine einzelen Spalte anzugeben, kann sie durch **eckige Klammern** nach dem Befehl spezifiziert werden. "
   ]
  },
  {
   "cell_type": "code",
   "execution_count": 21,
   "id": "f7883678",
   "metadata": {},
   "outputs": [
    {
     "data": {
      "text/html": [
       "<table>\n",
       "<thead><tr><th scope=col>mpg</th><th scope=col>cylinders</th><th scope=col>displacement</th><th scope=col>horsepower</th><th scope=col>weight</th><th scope=col>acceleration</th><th scope=col>year</th><th scope=col>origin</th><th scope=col>name</th></tr></thead>\n",
       "<tbody>\n",
       "\t<tr><td>18                       </td><td>8                        </td><td>307                      </td><td>130                      </td><td>3504                     </td><td>12.0                     </td><td>70                       </td><td>1                        </td><td>chevrolet chevelle malibu</td></tr>\n",
       "\t<tr><td>15                       </td><td>8                        </td><td>350                      </td><td>165                      </td><td>3693                     </td><td>11.5                     </td><td>70                       </td><td>1                        </td><td>buick skylark 320        </td></tr>\n",
       "\t<tr><td>18                       </td><td>8                        </td><td>318                      </td><td>150                      </td><td>3436                     </td><td>11.0                     </td><td>70                       </td><td>1                        </td><td>plymouth satellite       </td></tr>\n",
       "\t<tr><td>16                       </td><td>8                        </td><td>304                      </td><td>150                      </td><td>3433                     </td><td>12.0                     </td><td>70                       </td><td>1                        </td><td>amc rebel sst            </td></tr>\n",
       "\t<tr><td>17                       </td><td>8                        </td><td>302                      </td><td>140                      </td><td>3449                     </td><td>10.5                     </td><td>70                       </td><td>1                        </td><td>ford torino              </td></tr>\n",
       "\t<tr><td>15                       </td><td>8                        </td><td>429                      </td><td>198                      </td><td>4341                     </td><td>10.0                     </td><td>70                       </td><td>1                        </td><td>ford galaxie 500         </td></tr>\n",
       "\t<tr><td>14                       </td><td>8                        </td><td>454                      </td><td>220                      </td><td>4354                     </td><td> 9.0                     </td><td>70                       </td><td>1                        </td><td>chevrolet impala         </td></tr>\n",
       "</tbody>\n",
       "</table>\n"
      ],
      "text/latex": [
       "\\begin{tabular}{r|lllllllll}\n",
       " mpg & cylinders & displacement & horsepower & weight & acceleration & year & origin & name\\\\\n",
       "\\hline\n",
       "\t 18                        & 8                         & 307                       & 130                       & 3504                      & 12.0                      & 70                        & 1                         & chevrolet chevelle malibu\\\\\n",
       "\t 15                        & 8                         & 350                       & 165                       & 3693                      & 11.5                      & 70                        & 1                         & buick skylark 320        \\\\\n",
       "\t 18                        & 8                         & 318                       & 150                       & 3436                      & 11.0                      & 70                        & 1                         & plymouth satellite       \\\\\n",
       "\t 16                        & 8                         & 304                       & 150                       & 3433                      & 12.0                      & 70                        & 1                         & amc rebel sst            \\\\\n",
       "\t 17                        & 8                         & 302                       & 140                       & 3449                      & 10.5                      & 70                        & 1                         & ford torino              \\\\\n",
       "\t 15                        & 8                         & 429                       & 198                       & 4341                      & 10.0                      & 70                        & 1                         & ford galaxie 500         \\\\\n",
       "\t 14                        & 8                         & 454                       & 220                       & 4354                      &  9.0                      & 70                        & 1                         & chevrolet impala         \\\\\n",
       "\\end{tabular}\n"
      ],
      "text/markdown": [
       "\n",
       "| mpg | cylinders | displacement | horsepower | weight | acceleration | year | origin | name |\n",
       "|---|---|---|---|---|---|---|---|---|\n",
       "| 18                        | 8                         | 307                       | 130                       | 3504                      | 12.0                      | 70                        | 1                         | chevrolet chevelle malibu |\n",
       "| 15                        | 8                         | 350                       | 165                       | 3693                      | 11.5                      | 70                        | 1                         | buick skylark 320         |\n",
       "| 18                        | 8                         | 318                       | 150                       | 3436                      | 11.0                      | 70                        | 1                         | plymouth satellite        |\n",
       "| 16                        | 8                         | 304                       | 150                       | 3433                      | 12.0                      | 70                        | 1                         | amc rebel sst             |\n",
       "| 17                        | 8                         | 302                       | 140                       | 3449                      | 10.5                      | 70                        | 1                         | ford torino               |\n",
       "| 15                        | 8                         | 429                       | 198                       | 4341                      | 10.0                      | 70                        | 1                         | ford galaxie 500          |\n",
       "| 14                        | 8                         | 454                       | 220                       | 4354                      |  9.0                      | 70                        | 1                         | chevrolet impala          |\n",
       "\n"
      ],
      "text/plain": [
       "  mpg cylinders displacement horsepower weight acceleration year origin\n",
       "1 18  8         307          130        3504   12.0         70   1     \n",
       "2 15  8         350          165        3693   11.5         70   1     \n",
       "3 18  8         318          150        3436   11.0         70   1     \n",
       "4 16  8         304          150        3433   12.0         70   1     \n",
       "5 17  8         302          140        3449   10.5         70   1     \n",
       "6 15  8         429          198        4341   10.0         70   1     \n",
       "7 14  8         454          220        4354    9.0         70   1     \n",
       "  name                     \n",
       "1 chevrolet chevelle malibu\n",
       "2 buick skylark 320        \n",
       "3 plymouth satellite       \n",
       "4 amc rebel sst            \n",
       "5 ford torino              \n",
       "6 ford galaxie 500         \n",
       "7 chevrolet impala         "
      ]
     },
     "metadata": {},
     "output_type": "display_data"
    }
   ],
   "source": [
    "head(Auto, n = 7)"
   ]
  },
  {
   "cell_type": "code",
   "execution_count": 23,
   "id": "1ac3c9c9",
   "metadata": {},
   "outputs": [
    {
     "data": {
      "text/html": [
       "<table>\n",
       "<thead><tr><th scope=col>displacement</th></tr></thead>\n",
       "<tbody>\n",
       "\t<tr><td>307</td></tr>\n",
       "\t<tr><td>350</td></tr>\n",
       "\t<tr><td>318</td></tr>\n",
       "\t<tr><td>304</td></tr>\n",
       "</tbody>\n",
       "</table>\n"
      ],
      "text/latex": [
       "\\begin{tabular}{r|l}\n",
       " displacement\\\\\n",
       "\\hline\n",
       "\t 307\\\\\n",
       "\t 350\\\\\n",
       "\t 318\\\\\n",
       "\t 304\\\\\n",
       "\\end{tabular}\n"
      ],
      "text/markdown": [
       "\n",
       "| displacement |\n",
       "|---|\n",
       "| 307 |\n",
       "| 350 |\n",
       "| 318 |\n",
       "| 304 |\n",
       "\n"
      ],
      "text/plain": [
       "  displacement\n",
       "1 307         \n",
       "2 350         \n",
       "3 318         \n",
       "4 304         "
      ]
     },
     "metadata": {},
     "output_type": "display_data"
    }
   ],
   "source": [
    "head(Auto, n=4)[3]"
   ]
  },
  {
   "cell_type": "markdown",
   "id": "45399d35",
   "metadata": {},
   "source": [
    "Außerdem können die einzelnen Variablen ausgegeben werden, um herauszufinden, was gemessen wurde. Um die Abkürzungen zu verstehen, gibt es meist eine Legende, die genau beschreibt, was gemessen wurde."
   ]
  },
  {
   "cell_type": "code",
   "execution_count": 26,
   "id": "a383581e",
   "metadata": {},
   "outputs": [
    {
     "data": {
      "text/html": [
       "<ol class=list-inline>\n",
       "\t<li>'mpg'</li>\n",
       "\t<li>'cylinders'</li>\n",
       "\t<li>'displacement'</li>\n",
       "\t<li>'horsepower'</li>\n",
       "\t<li>'weight'</li>\n",
       "\t<li>'acceleration'</li>\n",
       "\t<li>'year'</li>\n",
       "\t<li>'origin'</li>\n",
       "\t<li>'name'</li>\n",
       "</ol>\n"
      ],
      "text/latex": [
       "\\begin{enumerate*}\n",
       "\\item 'mpg'\n",
       "\\item 'cylinders'\n",
       "\\item 'displacement'\n",
       "\\item 'horsepower'\n",
       "\\item 'weight'\n",
       "\\item 'acceleration'\n",
       "\\item 'year'\n",
       "\\item 'origin'\n",
       "\\item 'name'\n",
       "\\end{enumerate*}\n"
      ],
      "text/markdown": [
       "1. 'mpg'\n",
       "2. 'cylinders'\n",
       "3. 'displacement'\n",
       "4. 'horsepower'\n",
       "5. 'weight'\n",
       "6. 'acceleration'\n",
       "7. 'year'\n",
       "8. 'origin'\n",
       "9. 'name'\n",
       "\n",
       "\n"
      ],
      "text/plain": [
       "[1] \"mpg\"          \"cylinders\"    \"displacement\" \"horsepower\"   \"weight\"      \n",
       "[6] \"acceleration\" \"year\"         \"origin\"       \"name\"        "
      ]
     },
     "metadata": {},
     "output_type": "display_data"
    }
   ],
   "source": [
    "names(Auto)"
   ]
  },
  {
   "cell_type": "markdown",
   "id": "f972e223",
   "metadata": {},
   "source": [
    "Wie wir im ersten Teil gesehen haben, gibt es zahlreiche Befehle, die helfen können den Datensatz zu erfassen. Weitere Befehle können u.a. hier gefunden werden: [Hilfreiche Befehle](https://sebastiansauer.github.io/Lieblingsbefehle/)\n",
    "\n",
    "Allerdings können wir an diesem Beispiel auch eine erste Funktion selbst schreiben."
   ]
  },
  {
   "cell_type": "code",
   "execution_count": 39,
   "id": "9940c82c",
   "metadata": {},
   "outputs": [
    {
     "name": "stdout",
     "output_type": "stream",
     "text": [
      "[1] \"mpg\"\n",
      "[1] \"cylinders\"\n",
      "[1] \"displacement\"\n",
      "[1] \"horsepower\"\n",
      "[1] \"weight\"\n",
      "[1] \"acceleration\"\n",
      "[1] \"year\"\n",
      "[1] \"origin\"\n",
      "[1] \"name\"\n"
     ]
    }
   ],
   "source": [
    "for (x in seq(1 : dim(Auto)[2])){\n",
    "  print(names(Auto)[x])}"
   ]
  },
  {
   "cell_type": "markdown",
   "id": "467856e4",
   "metadata": {},
   "source": [
    "Wichtige Aspekte einer Funktion sind folgende:\n",
    "1) Hier wurde eine $for$-Schleife benutzt: dabei wird die Funktion $names()$, die wir oben schon verwendet haben, über jeder Spalte ausgeführt. Bei dem Befehl $names()[]$, wählt die Zahl in den eckigen Klammern die Spalte aus, die betrachtet werden soll.\n",
    "\n",
    "2) Nacheinander werden nun also alle Spalten betrachtet. Dies wird in der ersten Klammer hinter dem $for$ festgelegt. Dabei wird nacheinander ein $x$ ausgewählt zwischen 1 (also der ersten Spalte) und $dim(Auto)[2]$, was der letzten Spalte entspricht.\n",
    "\n",
    "3) Wichtig bei all diesen Schleifen ist insbesondere die Klammerung. So gibt es einen wichtigen Unterschide zwischen den runden Klammern $()$ und den eckigen Klammern $[]$. Zudem werden nach der Bennenung über wie viele Spalten die Schleife laufen soll, geschweifte Klammer $\\{\\}$ verwendet, in denen spezifiziert wird, welcher Befehl angewendet werden soll.\n",
    "\n",
    "Weiterer Informationen über die $for$-Schleife können u.a. hier gefunden werden: [Loops in R](https://www.datacamp.com/community/tutorials/tutorial-on-loops-in-r)."
   ]
  },
  {
   "cell_type": "markdown",
   "id": "1894e0d0",
   "metadata": {},
   "source": [
    "#### Visualisierung: Plots"
   ]
  },
  {
   "cell_type": "markdown",
   "id": "18f95895",
   "metadata": {},
   "source": [
    "Auch eine Visualisierung des Datensatzes ist oft sehr hilfreich, da sie einen Überblick über die Verteilung der Datenpunkte gibt. Damit kann man bereits erste Überlegungen anstellen, welche Analysemethode oder statistischen Modelle sinnvoll sein könnten. \n",
    "Auch bei den Plots können viele weitere Parameter verwendet werden: einige davon können u.a. hier gefunden werden: [Zusätzliche Parameter für Plots](https://www.rdocumentation.org/packages/graphics/versions/3.6.2/topics/plot).\n",
    "\n",
    "Um Plots zu kombinieren kann der Befehl $par$ verwendet werden. Dabei gibt $mfrow$ an wie die kleineren Plots (Subplots) angeordnet werden sollen. Weitere Details können u.a. hier gefunden werden: [Plots kombinieren mit Par](https://www.rdocumentation.org/packages/graphics/versions/3.6.2/topics/par)."
   ]
  },
  {
   "cell_type": "code",
   "execution_count": 28,
   "id": "48888794",
   "metadata": {},
   "outputs": [
    {
     "data": {
      "text/html": [
       "<strong>null device:</strong> 1"
      ],
      "text/latex": [
       "\\textbf{null device:} 1"
      ],
      "text/markdown": [
       "**null device:** 1"
      ],
      "text/plain": [
       "null device \n",
       "          1 "
      ]
     },
     "metadata": {},
     "output_type": "display_data"
    },
    {
     "data": {
      "image/png": "[encoded data removed]",
      "text/plain": [
       "Plot with title \"Histogram\""
      ]
     },
     "metadata": {},
     "output_type": "display_data"
    }
   ],
   "source": [
    "par(mfrow=c(1,3), oma = c(0, 0, 2, 0))\n",
    "boxplot(1:6000, Auto$weight, main = \"Boxplot\", col = \"darkorange\")\n",
    "barplot(Auto$weight, main = \"Barplot\")\n",
    "hist(Auto$weight, main = \"Histogram\", col = \"darkorange\")\n",
    "mtext(\"Visualisierung einer Variable aus unterschiedlichen Blickwinkeln\", outer = TRUE, cex = 1.0)\n",
    "dev.off()"
   ]
  },
  {
   "cell_type": "code",
   "execution_count": 29,
   "id": "cc9035ed",
   "metadata": {},
   "outputs": [
    {
     "name": "stdout",
     "output_type": "stream",
     "text": [
      "NULL\n"
     ]
    },
    {
     "data": {
      "image/png": "[encoded data removed]",
      "text/plain": [
       "Plot with title \"Zwei Variablen zusammen in einem Plot\""
      ]
     },
     "metadata": {},
     "output_type": "display_data"
    }
   ],
   "source": [
    "pp <- plot(Auto$weight, Auto$mpg, main = \"Zwei Variablen zusammen in einem Plot\", xlab = \"Weight\", ylab = \"mpg\")\n",
    "print(pp)"
   ]
  },
  {
   "cell_type": "code",
   "execution_count": 30,
   "id": "5336d95a",
   "metadata": {},
   "outputs": [
    {
     "data": {
      "image/png": "[encoded data removed]",
      "text/plain": [
       "plot without title"
      ]
     },
     "metadata": {},
     "output_type": "display_data"
    }
   ],
   "source": [
    "pairs( ∼ mpg + displacement + weight +acceleration , Auto, main = \"Visualisierung von mehr als zwei Variablen\")"
   ]
  },
  {
   "cell_type": "markdown",
   "id": "08282f34",
   "metadata": {},
   "source": [
    "Um die berechneten Ergebnisse und Visualisierungen dann nutzen zu können, ist es wichtig diese aus dem Jupyter Notebook zu exportieren. Dies kann mit dem Befehl $pdf()$ gemacht werden."
   ]
  },
  {
   "cell_type": "markdown",
   "id": "aa32e99d",
   "metadata": {},
   "source": [
    "### 3. Laden von Packages"
   ]
  },
  {
   "cell_type": "code",
   "execution_count": 31,
   "id": "7e29c9d0",
   "metadata": {},
   "outputs": [
    {
     "name": "stdout",
     "output_type": "stream",
     "text": [
      "package 'ggplot2' successfully unpacked and MD5 sums checked\n",
      "\n",
      "The downloaded binary packages are in\n",
      "\tC:\\Users\\Lenovo\\AppData\\Local\\Temp\\Rtmp4SO7S1\\downloaded_packages\n"
     ]
    }
   ],
   "source": [
    "install.packages(\"ggplot2\")"
   ]
  },
  {
   "cell_type": "code",
   "execution_count": 32,
   "id": "063b2fbf",
   "metadata": {},
   "outputs": [
    {
     "name": "stderr",
     "output_type": "stream",
     "text": [
      "Warning message:\n",
      "\"package 'ggplot2' was built under R version 3.6.3\"Warning message:\n",
      "\"Use of `Auto$year` is discouraged. Use `year` instead.\"Warning message:\n",
      "\"Use of `Auto$weight` is discouraged. Use `weight` instead.\""
     ]
    },
    {
     "data": {
      "image/png": "[encoded data removed]",
      "text/plain": [
       "plot without title"
      ]
     },
     "metadata": {},
     "output_type": "display_data"
    }
   ],
   "source": [
    "library(\"ggplot2\")\n",
    "\n",
    "ggplot(Auto, aes(x = Auto$year, y = Auto$weight)) +geom_point(aes(color = year))"
   ]
  },
  {
   "cell_type": "markdown",
   "id": "4de49830",
   "metadata": {},
   "source": [
    "### <font color='darkorange'> Aufgaben </font>\n",
    "1) Versuche zwei andere Variablen auf eine sinnvolle Weise zu visualisieren. Welcher Plot hat welchen Vorteil?\n",
    "\n",
    "2) Kann die Variable \"Auto$name\" sinnvoll visualisiert werden? \n",
    "\n",
    "3) Welche Visualisierung von \"Auto$weight\" ist am sinnvollsten? Was sagen die Plots aus?"
   ]
  },
  {
   "cell_type": "markdown",
   "id": "50dbe3cd",
   "metadata": {},
   "source": [
    "### <font color='darkorange'> Zugehörige Seiten in der Pflichtlektüre: </font> \n",
    "Ab \"2.3 Lab: Introduction to R\", S.42"
   ]
  }
 ],
 "metadata": {
  "kernelspec": {
   "display_name": "R",
   "language": "R",
   "name": "ir"
  },
  "language_info": {
   "codemirror_mode": "r",
   "file_extension": ".r",
   "mimetype": "text/x-r-source",
   "name": "R",
   "pygments_lexer": "r",
   "version": "3.6.1"
  }
 },
 "nbformat": 4,
 "nbformat_minor": 5
}
