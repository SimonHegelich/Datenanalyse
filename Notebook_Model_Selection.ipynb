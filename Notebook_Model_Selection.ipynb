{
  "cells": [
    {
      "cell_type": "markdown",
      "metadata": {
        "id": "view-in-github",
        "colab_type": "text"
      },
      "source": [
        "<a href=\"https://colab.research.google.com/github/SimonHegelich/Datenanalyse/blob/main/Notebook_Model_Selection.ipynb\" target=\"_parent\"><img src=\"https://colab.research.google.com/assets/colab-badge.svg\" alt=\"Open In Colab\"/></a>"
      ]
    },
    {
      "cell_type": "markdown",
      "id": "fa01e007",
      "metadata": {
        "id": "fa01e007"
      },
      "source": [
        "# Programmierübung: <font color='darkorange'> Model Selection </font>\n",
        "\n",
        "##### <font color='darkorange'> Datenanalyse, Sommersemester 2022, Professur für Political Data Science </font>"
      ]
    },
    {
      "cell_type": "markdown",
      "source": [
        "In diesem Notebook benutzen wir die tidyverse Programmierung, die uns ein etwas moderners R-Feeling ermöglicht."
      ],
      "metadata": {
        "id": "LWtR7odbe8pb"
      },
      "id": "LWtR7odbe8pb"
    },
    {
      "cell_type": "code",
      "source": [
        "# Packages\n",
        "install.packages(c(\"tidyverse\", \"leaps\", \"ISLR\"))\n",
        "library(tidyverse)  # data manipulation and visualization\n",
        "library(leaps)      # model selection functions\n",
        "\n",
        "# Load data and remove rows with missing data\n",
        "(\n",
        "  hitters <- na.omit(ISLR::Hitters) %>%\n",
        "    as_tibble\n",
        "  )"
      ],
      "metadata": {
        "colab": {
          "base_uri": "https://localhost:8080/",
          "height": 1000
        },
        "id": "ltdmVJ-lenOI",
        "outputId": "e9ec4684-5688-404b-abde-38c38fa83e05"
      },
      "id": "ltdmVJ-lenOI",
      "execution_count": 7,
      "outputs": [
        {
          "output_type": "stream",
          "name": "stderr",
          "text": [
            "Installing packages into ‘/usr/local/lib/R/site-library’\n",
            "(as ‘lib’ is unspecified)\n",
            "\n",
            "Warning message in system(\"timedatectl\", intern = TRUE):\n",
            "“running command 'timedatectl' had status 1”\n",
            "── \u001b[1mAttaching packages\u001b[22m ─────────────────────────────────────── tidyverse 1.3.1 ──\n",
            "\n",
            "\u001b[32m✔\u001b[39m \u001b[34mggplot2\u001b[39m 3.3.6     \u001b[32m✔\u001b[39m \u001b[34mpurrr  \u001b[39m 0.3.4\n",
            "\u001b[32m✔\u001b[39m \u001b[34mtibble \u001b[39m 3.1.7     \u001b[32m✔\u001b[39m \u001b[34mdplyr  \u001b[39m 1.0.9\n",
            "\u001b[32m✔\u001b[39m \u001b[34mtidyr  \u001b[39m 1.2.0     \u001b[32m✔\u001b[39m \u001b[34mstringr\u001b[39m 1.4.0\n",
            "\u001b[32m✔\u001b[39m \u001b[34mreadr  \u001b[39m 2.1.2     \u001b[32m✔\u001b[39m \u001b[34mforcats\u001b[39m 0.5.1\n",
            "\n",
            "── \u001b[1mConflicts\u001b[22m ────────────────────────────────────────── tidyverse_conflicts() ──\n",
            "\u001b[31m✖\u001b[39m \u001b[34mdplyr\u001b[39m::\u001b[32mfilter()\u001b[39m masks \u001b[34mstats\u001b[39m::filter()\n",
            "\u001b[31m✖\u001b[39m \u001b[34mdplyr\u001b[39m::\u001b[32mlag()\u001b[39m    masks \u001b[34mstats\u001b[39m::lag()\n",
            "\n"
          ]
        },
        {
          "output_type": "display_data",
          "data": {
            "text/html": [
              "<table class=\"dataframe\">\n",
              "<caption>A tibble: 263 × 20</caption>\n",
              "<thead>\n",
              "\t<tr><th scope=col>AtBat</th><th scope=col>Hits</th><th scope=col>HmRun</th><th scope=col>Runs</th><th scope=col>RBI</th><th scope=col>Walks</th><th scope=col>Years</th><th scope=col>CAtBat</th><th scope=col>CHits</th><th scope=col>CHmRun</th><th scope=col>CRuns</th><th scope=col>CRBI</th><th scope=col>CWalks</th><th scope=col>League</th><th scope=col>Division</th><th scope=col>PutOuts</th><th scope=col>Assists</th><th scope=col>Errors</th><th scope=col>Salary</th><th scope=col>NewLeague</th></tr>\n",
              "\t<tr><th scope=col>&lt;int&gt;</th><th scope=col>&lt;int&gt;</th><th scope=col>&lt;int&gt;</th><th scope=col>&lt;int&gt;</th><th scope=col>&lt;int&gt;</th><th scope=col>&lt;int&gt;</th><th scope=col>&lt;int&gt;</th><th scope=col>&lt;int&gt;</th><th scope=col>&lt;int&gt;</th><th scope=col>&lt;int&gt;</th><th scope=col>&lt;int&gt;</th><th scope=col>&lt;int&gt;</th><th scope=col>&lt;int&gt;</th><th scope=col>&lt;fct&gt;</th><th scope=col>&lt;fct&gt;</th><th scope=col>&lt;int&gt;</th><th scope=col>&lt;int&gt;</th><th scope=col>&lt;int&gt;</th><th scope=col>&lt;dbl&gt;</th><th scope=col>&lt;fct&gt;</th></tr>\n",
              "</thead>\n",
              "<tbody>\n",
              "\t<tr><td>315</td><td> 81</td><td> 7</td><td> 24</td><td> 38</td><td>39</td><td>14</td><td>3449</td><td> 835</td><td> 69</td><td> 321</td><td> 414</td><td>375</td><td>N</td><td>W</td><td> 632</td><td> 43</td><td>10</td><td> 475.000</td><td>N</td></tr>\n",
              "\t<tr><td>479</td><td>130</td><td>18</td><td> 66</td><td> 72</td><td>76</td><td> 3</td><td>1624</td><td> 457</td><td> 63</td><td> 224</td><td> 266</td><td>263</td><td>A</td><td>W</td><td> 880</td><td> 82</td><td>14</td><td> 480.000</td><td>A</td></tr>\n",
              "\t<tr><td>496</td><td>141</td><td>20</td><td> 65</td><td> 78</td><td>37</td><td>11</td><td>5628</td><td>1575</td><td>225</td><td> 828</td><td> 838</td><td>354</td><td>N</td><td>E</td><td> 200</td><td> 11</td><td> 3</td><td> 500.000</td><td>N</td></tr>\n",
              "\t<tr><td>321</td><td> 87</td><td>10</td><td> 39</td><td> 42</td><td>30</td><td> 2</td><td> 396</td><td> 101</td><td> 12</td><td>  48</td><td>  46</td><td> 33</td><td>N</td><td>E</td><td> 805</td><td> 40</td><td> 4</td><td>  91.500</td><td>N</td></tr>\n",
              "\t<tr><td>594</td><td>169</td><td> 4</td><td> 74</td><td> 51</td><td>35</td><td>11</td><td>4408</td><td>1133</td><td> 19</td><td> 501</td><td> 336</td><td>194</td><td>A</td><td>W</td><td> 282</td><td>421</td><td>25</td><td> 750.000</td><td>A</td></tr>\n",
              "\t<tr><td>185</td><td> 37</td><td> 1</td><td> 23</td><td>  8</td><td>21</td><td> 2</td><td> 214</td><td>  42</td><td>  1</td><td>  30</td><td>   9</td><td> 24</td><td>N</td><td>E</td><td>  76</td><td>127</td><td> 7</td><td>  70.000</td><td>A</td></tr>\n",
              "\t<tr><td>298</td><td> 73</td><td> 0</td><td> 24</td><td> 24</td><td> 7</td><td> 3</td><td> 509</td><td> 108</td><td>  0</td><td>  41</td><td>  37</td><td> 12</td><td>A</td><td>W</td><td> 121</td><td>283</td><td> 9</td><td> 100.000</td><td>A</td></tr>\n",
              "\t<tr><td>323</td><td> 81</td><td> 6</td><td> 26</td><td> 32</td><td> 8</td><td> 2</td><td> 341</td><td>  86</td><td>  6</td><td>  32</td><td>  34</td><td>  8</td><td>N</td><td>W</td><td> 143</td><td>290</td><td>19</td><td>  75.000</td><td>N</td></tr>\n",
              "\t<tr><td>401</td><td> 92</td><td>17</td><td> 49</td><td> 66</td><td>65</td><td>13</td><td>5206</td><td>1332</td><td>253</td><td> 784</td><td> 890</td><td>866</td><td>A</td><td>E</td><td>   0</td><td>  0</td><td> 0</td><td>1100.000</td><td>A</td></tr>\n",
              "\t<tr><td>574</td><td>159</td><td>21</td><td>107</td><td> 75</td><td>59</td><td>10</td><td>4631</td><td>1300</td><td> 90</td><td> 702</td><td> 504</td><td>488</td><td>A</td><td>E</td><td> 238</td><td>445</td><td>22</td><td> 517.143</td><td>A</td></tr>\n",
              "\t<tr><td>202</td><td> 53</td><td> 4</td><td> 31</td><td> 26</td><td>27</td><td> 9</td><td>1876</td><td> 467</td><td> 15</td><td> 192</td><td> 186</td><td>161</td><td>N</td><td>W</td><td> 304</td><td> 45</td><td>11</td><td> 512.500</td><td>N</td></tr>\n",
              "\t<tr><td>418</td><td>113</td><td>13</td><td> 48</td><td> 61</td><td>47</td><td> 4</td><td>1512</td><td> 392</td><td> 41</td><td> 205</td><td> 204</td><td>203</td><td>N</td><td>E</td><td> 211</td><td> 11</td><td> 7</td><td> 550.000</td><td>N</td></tr>\n",
              "\t<tr><td>239</td><td> 60</td><td> 0</td><td> 30</td><td> 11</td><td>22</td><td> 6</td><td>1941</td><td> 510</td><td>  4</td><td> 309</td><td> 103</td><td>207</td><td>A</td><td>E</td><td> 121</td><td>151</td><td> 6</td><td> 700.000</td><td>A</td></tr>\n",
              "\t<tr><td>196</td><td> 43</td><td> 7</td><td> 29</td><td> 27</td><td>30</td><td>13</td><td>3231</td><td> 825</td><td> 36</td><td> 376</td><td> 290</td><td>238</td><td>N</td><td>E</td><td>  80</td><td> 45</td><td> 8</td><td> 240.000</td><td>N</td></tr>\n",
              "\t<tr><td>568</td><td>158</td><td>20</td><td> 89</td><td> 75</td><td>73</td><td>15</td><td>8068</td><td>2273</td><td>177</td><td>1045</td><td> 993</td><td>732</td><td>N</td><td>W</td><td> 105</td><td>290</td><td>10</td><td> 775.000</td><td>N</td></tr>\n",
              "\t<tr><td>190</td><td> 46</td><td> 2</td><td> 24</td><td>  8</td><td>15</td><td> 5</td><td> 479</td><td> 102</td><td>  5</td><td>  65</td><td>  23</td><td> 39</td><td>A</td><td>W</td><td> 102</td><td>177</td><td>16</td><td> 175.000</td><td>A</td></tr>\n",
              "\t<tr><td>127</td><td> 32</td><td> 8</td><td> 16</td><td> 22</td><td>14</td><td> 8</td><td> 727</td><td> 180</td><td> 24</td><td>  67</td><td>  82</td><td> 56</td><td>N</td><td>W</td><td> 202</td><td> 22</td><td> 2</td><td> 135.000</td><td>N</td></tr>\n",
              "\t<tr><td>413</td><td> 92</td><td>16</td><td> 72</td><td> 48</td><td>65</td><td> 1</td><td> 413</td><td>  92</td><td> 16</td><td>  72</td><td>  48</td><td> 65</td><td>N</td><td>E</td><td> 280</td><td>  9</td><td> 5</td><td> 100.000</td><td>N</td></tr>\n",
              "\t<tr><td>426</td><td>109</td><td> 3</td><td> 55</td><td> 43</td><td>62</td><td> 1</td><td> 426</td><td> 109</td><td>  3</td><td>  55</td><td>  43</td><td> 62</td><td>A</td><td>W</td><td> 361</td><td> 22</td><td> 2</td><td> 115.000</td><td>N</td></tr>\n",
              "\t<tr><td>472</td><td>116</td><td>16</td><td> 60</td><td> 62</td><td>74</td><td> 6</td><td>1924</td><td> 489</td><td> 67</td><td> 242</td><td> 251</td><td>240</td><td>N</td><td>W</td><td> 518</td><td> 55</td><td> 3</td><td> 600.000</td><td>N</td></tr>\n",
              "\t<tr><td>629</td><td>168</td><td>18</td><td> 73</td><td>102</td><td>40</td><td>18</td><td>8424</td><td>2464</td><td>164</td><td>1008</td><td>1072</td><td>402</td><td>A</td><td>E</td><td>1067</td><td>157</td><td>14</td><td> 776.667</td><td>A</td></tr>\n",
              "\t<tr><td>587</td><td>163</td><td> 4</td><td> 92</td><td> 51</td><td>70</td><td> 6</td><td>2695</td><td> 747</td><td> 17</td><td> 442</td><td> 198</td><td>317</td><td>A</td><td>E</td><td> 434</td><td>  9</td><td> 3</td><td> 765.000</td><td>A</td></tr>\n",
              "\t<tr><td>324</td><td> 73</td><td> 4</td><td> 32</td><td> 18</td><td>22</td><td> 7</td><td>1931</td><td> 491</td><td> 13</td><td> 291</td><td> 108</td><td>180</td><td>N</td><td>E</td><td> 222</td><td>  3</td><td> 3</td><td> 708.333</td><td>N</td></tr>\n",
              "\t<tr><td>474</td><td>129</td><td>10</td><td> 50</td><td> 56</td><td>40</td><td>10</td><td>2331</td><td> 604</td><td> 61</td><td> 246</td><td> 327</td><td>166</td><td>N</td><td>W</td><td> 732</td><td> 83</td><td>13</td><td> 750.000</td><td>N</td></tr>\n",
              "\t<tr><td>550</td><td>152</td><td> 6</td><td> 92</td><td> 37</td><td>81</td><td> 5</td><td>2308</td><td> 633</td><td> 32</td><td> 349</td><td> 182</td><td>308</td><td>N</td><td>W</td><td> 262</td><td>329</td><td>16</td><td> 625.000</td><td>N</td></tr>\n",
              "\t<tr><td>513</td><td>137</td><td>20</td><td> 90</td><td> 95</td><td>90</td><td>14</td><td>5201</td><td>1382</td><td>166</td><td> 763</td><td> 734</td><td>784</td><td>A</td><td>W</td><td> 267</td><td>  5</td><td> 3</td><td> 900.000</td><td>A</td></tr>\n",
              "\t<tr><td>419</td><td>108</td><td> 6</td><td> 55</td><td> 36</td><td>22</td><td> 3</td><td> 591</td><td> 149</td><td>  8</td><td>  80</td><td>  46</td><td> 31</td><td>N</td><td>W</td><td> 226</td><td>  7</td><td> 4</td><td> 110.000</td><td>N</td></tr>\n",
              "\t<tr><td>583</td><td>168</td><td>17</td><td> 83</td><td> 80</td><td>56</td><td> 5</td><td>1646</td><td> 452</td><td> 44</td><td> 219</td><td> 208</td><td>136</td><td>A</td><td>E</td><td> 109</td><td>292</td><td>25</td><td> 612.500</td><td>A</td></tr>\n",
              "\t<tr><td>204</td><td> 49</td><td> 6</td><td> 23</td><td> 25</td><td>12</td><td> 7</td><td>1309</td><td> 308</td><td> 27</td><td> 126</td><td> 132</td><td> 66</td><td>A</td><td>W</td><td> 419</td><td> 46</td><td> 5</td><td> 300.000</td><td>A</td></tr>\n",
              "\t<tr><td>379</td><td>106</td><td>10</td><td> 38</td><td> 60</td><td>30</td><td>14</td><td>6207</td><td>1906</td><td>146</td><td> 859</td><td> 803</td><td>571</td><td>N</td><td>W</td><td>  72</td><td>170</td><td>24</td><td> 850.000</td><td>N</td></tr>\n",
              "\t<tr><td>⋮</td><td>⋮</td><td>⋮</td><td>⋮</td><td>⋮</td><td>⋮</td><td>⋮</td><td>⋮</td><td>⋮</td><td>⋮</td><td>⋮</td><td>⋮</td><td>⋮</td><td>⋮</td><td>⋮</td><td>⋮</td><td>⋮</td><td>⋮</td><td>⋮</td><td>⋮</td></tr>\n",
              "\t<tr><td>687</td><td>213</td><td>10</td><td> 91</td><td> 65</td><td> 27</td><td> 4</td><td>1518</td><td> 448</td><td> 15</td><td> 196</td><td> 137</td><td> 89</td><td>A</td><td>E</td><td> 294</td><td>445</td><td>13</td><td> 350.000</td><td>A</td></tr>\n",
              "\t<tr><td>368</td><td>103</td><td> 3</td><td> 48</td><td> 28</td><td> 54</td><td> 8</td><td>1897</td><td> 493</td><td>  9</td><td> 207</td><td> 162</td><td>198</td><td>N</td><td>W</td><td> 209</td><td>246</td><td> 3</td><td> 326.667</td><td>N</td></tr>\n",
              "\t<tr><td>263</td><td> 70</td><td> 1</td><td> 26</td><td> 23</td><td> 30</td><td> 4</td><td> 888</td><td> 220</td><td>  9</td><td>  83</td><td>  82</td><td> 86</td><td>N</td><td>E</td><td>  81</td><td>147</td><td> 4</td><td> 250.000</td><td>N</td></tr>\n",
              "\t<tr><td>642</td><td>211</td><td>14</td><td>107</td><td> 59</td><td> 52</td><td> 5</td><td>2364</td><td> 770</td><td> 27</td><td> 352</td><td> 230</td><td>193</td><td>N</td><td>W</td><td> 337</td><td> 19</td><td> 4</td><td> 740.000</td><td>N</td></tr>\n",
              "\t<tr><td>265</td><td> 68</td><td> 8</td><td> 26</td><td> 30</td><td> 29</td><td> 7</td><td>1337</td><td> 339</td><td> 32</td><td> 135</td><td> 163</td><td>128</td><td>N</td><td>W</td><td>  92</td><td>  5</td><td> 3</td><td> 425.000</td><td>A</td></tr>\n",
              "\t<tr><td>559</td><td>141</td><td> 2</td><td> 48</td><td> 61</td><td> 73</td><td> 8</td><td>3162</td><td> 874</td><td> 16</td><td> 421</td><td> 349</td><td>359</td><td>N</td><td>E</td><td> 352</td><td>414</td><td> 9</td><td> 925.000</td><td>N</td></tr>\n",
              "\t<tr><td>520</td><td>120</td><td>17</td><td> 53</td><td> 44</td><td> 21</td><td> 4</td><td> 927</td><td> 227</td><td> 22</td><td> 106</td><td>  80</td><td> 52</td><td>A</td><td>W</td><td>  70</td><td>144</td><td>11</td><td> 185.000</td><td>A</td></tr>\n",
              "\t<tr><td> 19</td><td>  4</td><td> 1</td><td>  2</td><td>  3</td><td>  1</td><td> 1</td><td>  19</td><td>   4</td><td>  1</td><td>   2</td><td>   3</td><td>  1</td><td>N</td><td>W</td><td> 692</td><td> 70</td><td> 8</td><td> 920.000</td><td>A</td></tr>\n",
              "\t<tr><td>205</td><td> 43</td><td> 2</td><td> 24</td><td> 17</td><td> 20</td><td> 7</td><td> 854</td><td> 219</td><td> 12</td><td> 105</td><td>  99</td><td> 71</td><td>N</td><td>E</td><td> 131</td><td>  6</td><td> 1</td><td> 286.667</td><td>N</td></tr>\n",
              "\t<tr><td>193</td><td> 47</td><td>10</td><td> 21</td><td> 29</td><td> 24</td><td> 6</td><td>1136</td><td> 256</td><td> 42</td><td> 129</td><td> 139</td><td>106</td><td>A</td><td>W</td><td> 299</td><td> 13</td><td> 5</td><td> 245.000</td><td>A</td></tr>\n",
              "\t<tr><td>213</td><td> 61</td><td> 4</td><td> 17</td><td> 22</td><td>  3</td><td>17</td><td>4061</td><td>1145</td><td> 83</td><td> 488</td><td> 491</td><td>244</td><td>A</td><td>W</td><td> 178</td><td> 45</td><td> 4</td><td> 235.000</td><td>A</td></tr>\n",
              "\t<tr><td>510</td><td>147</td><td>10</td><td> 56</td><td> 52</td><td> 53</td><td> 7</td><td>2872</td><td> 821</td><td> 63</td><td> 307</td><td> 340</td><td>174</td><td>N</td><td>E</td><td> 810</td><td> 99</td><td>18</td><td>1150.000</td><td>N</td></tr>\n",
              "\t<tr><td>578</td><td>138</td><td> 1</td><td> 56</td><td> 59</td><td> 34</td><td> 3</td><td>1399</td><td> 357</td><td>  7</td><td> 149</td><td> 161</td><td> 87</td><td>N</td><td>E</td><td> 133</td><td>371</td><td>20</td><td> 160.000</td><td>N</td></tr>\n",
              "\t<tr><td>441</td><td>113</td><td> 5</td><td> 76</td><td> 52</td><td> 76</td><td> 5</td><td>1546</td><td> 397</td><td> 17</td><td> 226</td><td> 149</td><td>191</td><td>A</td><td>W</td><td> 160</td><td>290</td><td>11</td><td> 425.000</td><td>A</td></tr>\n",
              "\t<tr><td>172</td><td> 42</td><td> 3</td><td> 17</td><td> 14</td><td> 15</td><td>10</td><td>4086</td><td>1150</td><td> 57</td><td> 579</td><td> 363</td><td>406</td><td>N</td><td>W</td><td>  65</td><td>  0</td><td> 0</td><td> 900.000</td><td>N</td></tr>\n",
              "\t<tr><td>127</td><td> 32</td><td> 4</td><td> 14</td><td> 25</td><td> 12</td><td>19</td><td>8396</td><td>2402</td><td>242</td><td>1048</td><td>1348</td><td>819</td><td>N</td><td>W</td><td> 167</td><td> 18</td><td> 6</td><td> 500.000</td><td>N</td></tr>\n",
              "\t<tr><td>279</td><td> 69</td><td> 4</td><td> 35</td><td> 31</td><td> 32</td><td> 4</td><td>1359</td><td> 355</td><td> 31</td><td> 180</td><td> 148</td><td>158</td><td>N</td><td>E</td><td> 133</td><td>173</td><td> 9</td><td> 277.500</td><td>N</td></tr>\n",
              "\t<tr><td>480</td><td>112</td><td>18</td><td> 50</td><td> 71</td><td> 44</td><td> 7</td><td>3031</td><td> 771</td><td>110</td><td> 338</td><td> 406</td><td>239</td><td>N</td><td>E</td><td>  94</td><td>270</td><td>16</td><td> 750.000</td><td>N</td></tr>\n",
              "\t<tr><td>600</td><td>139</td><td> 0</td><td> 94</td><td> 29</td><td> 60</td><td> 2</td><td>1236</td><td> 309</td><td>  1</td><td> 201</td><td>  69</td><td>110</td><td>N</td><td>E</td><td> 300</td><td> 12</td><td> 9</td><td> 160.000</td><td>N</td></tr>\n",
              "\t<tr><td>610</td><td>186</td><td>19</td><td>107</td><td> 98</td><td> 74</td><td> 6</td><td>2728</td><td> 753</td><td> 69</td><td> 399</td><td> 366</td><td>286</td><td>N</td><td>E</td><td>1182</td><td> 96</td><td>13</td><td>1300.000</td><td>N</td></tr>\n",
              "\t<tr><td>360</td><td> 81</td><td> 5</td><td> 37</td><td> 44</td><td> 37</td><td> 7</td><td>2268</td><td> 566</td><td> 41</td><td> 279</td><td> 257</td><td>246</td><td>N</td><td>E</td><td> 170</td><td>284</td><td> 3</td><td> 525.000</td><td>N</td></tr>\n",
              "\t<tr><td>387</td><td>124</td><td> 1</td><td> 67</td><td> 27</td><td> 36</td><td> 7</td><td>1775</td><td> 506</td><td>  6</td><td> 272</td><td> 125</td><td>194</td><td>N</td><td>E</td><td> 186</td><td>290</td><td>17</td><td> 550.000</td><td>N</td></tr>\n",
              "\t<tr><td>580</td><td>207</td><td> 8</td><td>107</td><td> 71</td><td>105</td><td> 5</td><td>2778</td><td> 978</td><td> 32</td><td> 474</td><td> 322</td><td>417</td><td>A</td><td>E</td><td> 121</td><td>267</td><td>19</td><td>1600.000</td><td>A</td></tr>\n",
              "\t<tr><td>408</td><td>117</td><td>11</td><td> 66</td><td> 41</td><td> 34</td><td> 1</td><td> 408</td><td> 117</td><td> 11</td><td>  66</td><td>  41</td><td> 34</td><td>N</td><td>W</td><td> 942</td><td> 72</td><td>11</td><td> 120.000</td><td>N</td></tr>\n",
              "\t<tr><td>593</td><td>172</td><td>22</td><td> 82</td><td>100</td><td> 57</td><td> 1</td><td> 593</td><td> 172</td><td> 22</td><td>  82</td><td> 100</td><td> 57</td><td>A</td><td>W</td><td>1222</td><td>139</td><td>15</td><td> 165.000</td><td>A</td></tr>\n",
              "\t<tr><td>497</td><td>127</td><td> 7</td><td> 65</td><td> 48</td><td> 37</td><td> 5</td><td>2703</td><td> 806</td><td> 32</td><td> 379</td><td> 311</td><td>138</td><td>N</td><td>E</td><td> 325</td><td>  9</td><td> 3</td><td> 700.000</td><td>N</td></tr>\n",
              "\t<tr><td>492</td><td>136</td><td> 5</td><td> 76</td><td> 50</td><td> 94</td><td>12</td><td>5511</td><td>1511</td><td> 39</td><td> 897</td><td> 451</td><td>875</td><td>A</td><td>E</td><td> 313</td><td>381</td><td>20</td><td> 875.000</td><td>A</td></tr>\n",
              "\t<tr><td>475</td><td>126</td><td> 3</td><td> 61</td><td> 43</td><td> 52</td><td> 6</td><td>1700</td><td> 433</td><td>  7</td><td> 217</td><td>  93</td><td>146</td><td>A</td><td>W</td><td>  37</td><td>113</td><td> 7</td><td> 385.000</td><td>A</td></tr>\n",
              "\t<tr><td>573</td><td>144</td><td> 9</td><td> 85</td><td> 60</td><td> 78</td><td> 8</td><td>3198</td><td> 857</td><td> 97</td><td> 470</td><td> 420</td><td>332</td><td>A</td><td>E</td><td>1314</td><td>131</td><td>12</td><td> 960.000</td><td>A</td></tr>\n",
              "\t<tr><td>631</td><td>170</td><td> 9</td><td> 77</td><td> 44</td><td> 31</td><td>11</td><td>4908</td><td>1457</td><td> 30</td><td> 775</td><td> 357</td><td>249</td><td>A</td><td>W</td><td> 408</td><td>  4</td><td> 3</td><td>1000.000</td><td>A</td></tr>\n",
              "</tbody>\n",
              "</table>\n"
            ],
            "text/markdown": "\nA tibble: 263 × 20\n\n| AtBat &lt;int&gt; | Hits &lt;int&gt; | HmRun &lt;int&gt; | Runs &lt;int&gt; | RBI &lt;int&gt; | Walks &lt;int&gt; | Years &lt;int&gt; | CAtBat &lt;int&gt; | CHits &lt;int&gt; | CHmRun &lt;int&gt; | CRuns &lt;int&gt; | CRBI &lt;int&gt; | CWalks &lt;int&gt; | League &lt;fct&gt; | Division &lt;fct&gt; | PutOuts &lt;int&gt; | Assists &lt;int&gt; | Errors &lt;int&gt; | Salary &lt;dbl&gt; | NewLeague &lt;fct&gt; |\n|---|---|---|---|---|---|---|---|---|---|---|---|---|---|---|---|---|---|---|---|\n| 315 |  81 |  7 |  24 |  38 | 39 | 14 | 3449 |  835 |  69 |  321 |  414 | 375 | N | W |  632 |  43 | 10 |  475.000 | N |\n| 479 | 130 | 18 |  66 |  72 | 76 |  3 | 1624 |  457 |  63 |  224 |  266 | 263 | A | W |  880 |  82 | 14 |  480.000 | A |\n| 496 | 141 | 20 |  65 |  78 | 37 | 11 | 5628 | 1575 | 225 |  828 |  838 | 354 | N | E |  200 |  11 |  3 |  500.000 | N |\n| 321 |  87 | 10 |  39 |  42 | 30 |  2 |  396 |  101 |  12 |   48 |   46 |  33 | N | E |  805 |  40 |  4 |   91.500 | N |\n| 594 | 169 |  4 |  74 |  51 | 35 | 11 | 4408 | 1133 |  19 |  501 |  336 | 194 | A | W |  282 | 421 | 25 |  750.000 | A |\n| 185 |  37 |  1 |  23 |   8 | 21 |  2 |  214 |   42 |   1 |   30 |    9 |  24 | N | E |   76 | 127 |  7 |   70.000 | A |\n| 298 |  73 |  0 |  24 |  24 |  7 |  3 |  509 |  108 |   0 |   41 |   37 |  12 | A | W |  121 | 283 |  9 |  100.000 | A |\n| 323 |  81 |  6 |  26 |  32 |  8 |  2 |  341 |   86 |   6 |   32 |   34 |   8 | N | W |  143 | 290 | 19 |   75.000 | N |\n| 401 |  92 | 17 |  49 |  66 | 65 | 13 | 5206 | 1332 | 253 |  784 |  890 | 866 | A | E |    0 |   0 |  0 | 1100.000 | A |\n| 574 | 159 | 21 | 107 |  75 | 59 | 10 | 4631 | 1300 |  90 |  702 |  504 | 488 | A | E |  238 | 445 | 22 |  517.143 | A |\n| 202 |  53 |  4 |  31 |  26 | 27 |  9 | 1876 |  467 |  15 |  192 |  186 | 161 | N | W |  304 |  45 | 11 |  512.500 | N |\n| 418 | 113 | 13 |  48 |  61 | 47 |  4 | 1512 |  392 |  41 |  205 |  204 | 203 | N | E |  211 |  11 |  7 |  550.000 | N |\n| 239 |  60 |  0 |  30 |  11 | 22 |  6 | 1941 |  510 |   4 |  309 |  103 | 207 | A | E |  121 | 151 |  6 |  700.000 | A |\n| 196 |  43 |  7 |  29 |  27 | 30 | 13 | 3231 |  825 |  36 |  376 |  290 | 238 | N | E |   80 |  45 |  8 |  240.000 | N |\n| 568 | 158 | 20 |  89 |  75 | 73 | 15 | 8068 | 2273 | 177 | 1045 |  993 | 732 | N | W |  105 | 290 | 10 |  775.000 | N |\n| 190 |  46 |  2 |  24 |   8 | 15 |  5 |  479 |  102 |   5 |   65 |   23 |  39 | A | W |  102 | 177 | 16 |  175.000 | A |\n| 127 |  32 |  8 |  16 |  22 | 14 |  8 |  727 |  180 |  24 |   67 |   82 |  56 | N | W |  202 |  22 |  2 |  135.000 | N |\n| 413 |  92 | 16 |  72 |  48 | 65 |  1 |  413 |   92 |  16 |   72 |   48 |  65 | N | E |  280 |   9 |  5 |  100.000 | N |\n| 426 | 109 |  3 |  55 |  43 | 62 |  1 |  426 |  109 |   3 |   55 |   43 |  62 | A | W |  361 |  22 |  2 |  115.000 | N |\n| 472 | 116 | 16 |  60 |  62 | 74 |  6 | 1924 |  489 |  67 |  242 |  251 | 240 | N | W |  518 |  55 |  3 |  600.000 | N |\n| 629 | 168 | 18 |  73 | 102 | 40 | 18 | 8424 | 2464 | 164 | 1008 | 1072 | 402 | A | E | 1067 | 157 | 14 |  776.667 | A |\n| 587 | 163 |  4 |  92 |  51 | 70 |  6 | 2695 |  747 |  17 |  442 |  198 | 317 | A | E |  434 |   9 |  3 |  765.000 | A |\n| 324 |  73 |  4 |  32 |  18 | 22 |  7 | 1931 |  491 |  13 |  291 |  108 | 180 | N | E |  222 |   3 |  3 |  708.333 | N |\n| 474 | 129 | 10 |  50 |  56 | 40 | 10 | 2331 |  604 |  61 |  246 |  327 | 166 | N | W |  732 |  83 | 13 |  750.000 | N |\n| 550 | 152 |  6 |  92 |  37 | 81 |  5 | 2308 |  633 |  32 |  349 |  182 | 308 | N | W |  262 | 329 | 16 |  625.000 | N |\n| 513 | 137 | 20 |  90 |  95 | 90 | 14 | 5201 | 1382 | 166 |  763 |  734 | 784 | A | W |  267 |   5 |  3 |  900.000 | A |\n| 419 | 108 |  6 |  55 |  36 | 22 |  3 |  591 |  149 |   8 |   80 |   46 |  31 | N | W |  226 |   7 |  4 |  110.000 | N |\n| 583 | 168 | 17 |  83 |  80 | 56 |  5 | 1646 |  452 |  44 |  219 |  208 | 136 | A | E |  109 | 292 | 25 |  612.500 | A |\n| 204 |  49 |  6 |  23 |  25 | 12 |  7 | 1309 |  308 |  27 |  126 |  132 |  66 | A | W |  419 |  46 |  5 |  300.000 | A |\n| 379 | 106 | 10 |  38 |  60 | 30 | 14 | 6207 | 1906 | 146 |  859 |  803 | 571 | N | W |   72 | 170 | 24 |  850.000 | N |\n| ⋮ | ⋮ | ⋮ | ⋮ | ⋮ | ⋮ | ⋮ | ⋮ | ⋮ | ⋮ | ⋮ | ⋮ | ⋮ | ⋮ | ⋮ | ⋮ | ⋮ | ⋮ | ⋮ | ⋮ |\n| 687 | 213 | 10 |  91 |  65 |  27 |  4 | 1518 |  448 |  15 |  196 |  137 |  89 | A | E |  294 | 445 | 13 |  350.000 | A |\n| 368 | 103 |  3 |  48 |  28 |  54 |  8 | 1897 |  493 |   9 |  207 |  162 | 198 | N | W |  209 | 246 |  3 |  326.667 | N |\n| 263 |  70 |  1 |  26 |  23 |  30 |  4 |  888 |  220 |   9 |   83 |   82 |  86 | N | E |   81 | 147 |  4 |  250.000 | N |\n| 642 | 211 | 14 | 107 |  59 |  52 |  5 | 2364 |  770 |  27 |  352 |  230 | 193 | N | W |  337 |  19 |  4 |  740.000 | N |\n| 265 |  68 |  8 |  26 |  30 |  29 |  7 | 1337 |  339 |  32 |  135 |  163 | 128 | N | W |   92 |   5 |  3 |  425.000 | A |\n| 559 | 141 |  2 |  48 |  61 |  73 |  8 | 3162 |  874 |  16 |  421 |  349 | 359 | N | E |  352 | 414 |  9 |  925.000 | N |\n| 520 | 120 | 17 |  53 |  44 |  21 |  4 |  927 |  227 |  22 |  106 |   80 |  52 | A | W |   70 | 144 | 11 |  185.000 | A |\n|  19 |   4 |  1 |   2 |   3 |   1 |  1 |   19 |    4 |   1 |    2 |    3 |   1 | N | W |  692 |  70 |  8 |  920.000 | A |\n| 205 |  43 |  2 |  24 |  17 |  20 |  7 |  854 |  219 |  12 |  105 |   99 |  71 | N | E |  131 |   6 |  1 |  286.667 | N |\n| 193 |  47 | 10 |  21 |  29 |  24 |  6 | 1136 |  256 |  42 |  129 |  139 | 106 | A | W |  299 |  13 |  5 |  245.000 | A |\n| 213 |  61 |  4 |  17 |  22 |   3 | 17 | 4061 | 1145 |  83 |  488 |  491 | 244 | A | W |  178 |  45 |  4 |  235.000 | A |\n| 510 | 147 | 10 |  56 |  52 |  53 |  7 | 2872 |  821 |  63 |  307 |  340 | 174 | N | E |  810 |  99 | 18 | 1150.000 | N |\n| 578 | 138 |  1 |  56 |  59 |  34 |  3 | 1399 |  357 |   7 |  149 |  161 |  87 | N | E |  133 | 371 | 20 |  160.000 | N |\n| 441 | 113 |  5 |  76 |  52 |  76 |  5 | 1546 |  397 |  17 |  226 |  149 | 191 | A | W |  160 | 290 | 11 |  425.000 | A |\n| 172 |  42 |  3 |  17 |  14 |  15 | 10 | 4086 | 1150 |  57 |  579 |  363 | 406 | N | W |   65 |   0 |  0 |  900.000 | N |\n| 127 |  32 |  4 |  14 |  25 |  12 | 19 | 8396 | 2402 | 242 | 1048 | 1348 | 819 | N | W |  167 |  18 |  6 |  500.000 | N |\n| 279 |  69 |  4 |  35 |  31 |  32 |  4 | 1359 |  355 |  31 |  180 |  148 | 158 | N | E |  133 | 173 |  9 |  277.500 | N |\n| 480 | 112 | 18 |  50 |  71 |  44 |  7 | 3031 |  771 | 110 |  338 |  406 | 239 | N | E |   94 | 270 | 16 |  750.000 | N |\n| 600 | 139 |  0 |  94 |  29 |  60 |  2 | 1236 |  309 |   1 |  201 |   69 | 110 | N | E |  300 |  12 |  9 |  160.000 | N |\n| 610 | 186 | 19 | 107 |  98 |  74 |  6 | 2728 |  753 |  69 |  399 |  366 | 286 | N | E | 1182 |  96 | 13 | 1300.000 | N |\n| 360 |  81 |  5 |  37 |  44 |  37 |  7 | 2268 |  566 |  41 |  279 |  257 | 246 | N | E |  170 | 284 |  3 |  525.000 | N |\n| 387 | 124 |  1 |  67 |  27 |  36 |  7 | 1775 |  506 |   6 |  272 |  125 | 194 | N | E |  186 | 290 | 17 |  550.000 | N |\n| 580 | 207 |  8 | 107 |  71 | 105 |  5 | 2778 |  978 |  32 |  474 |  322 | 417 | A | E |  121 | 267 | 19 | 1600.000 | A |\n| 408 | 117 | 11 |  66 |  41 |  34 |  1 |  408 |  117 |  11 |   66 |   41 |  34 | N | W |  942 |  72 | 11 |  120.000 | N |\n| 593 | 172 | 22 |  82 | 100 |  57 |  1 |  593 |  172 |  22 |   82 |  100 |  57 | A | W | 1222 | 139 | 15 |  165.000 | A |\n| 497 | 127 |  7 |  65 |  48 |  37 |  5 | 2703 |  806 |  32 |  379 |  311 | 138 | N | E |  325 |   9 |  3 |  700.000 | N |\n| 492 | 136 |  5 |  76 |  50 |  94 | 12 | 5511 | 1511 |  39 |  897 |  451 | 875 | A | E |  313 | 381 | 20 |  875.000 | A |\n| 475 | 126 |  3 |  61 |  43 |  52 |  6 | 1700 |  433 |   7 |  217 |   93 | 146 | A | W |   37 | 113 |  7 |  385.000 | A |\n| 573 | 144 |  9 |  85 |  60 |  78 |  8 | 3198 |  857 |  97 |  470 |  420 | 332 | A | E | 1314 | 131 | 12 |  960.000 | A |\n| 631 | 170 |  9 |  77 |  44 |  31 | 11 | 4908 | 1457 |  30 |  775 |  357 | 249 | A | W |  408 |   4 |  3 | 1000.000 | A |\n\n",
            "text/latex": "A tibble: 263 × 20\n\\begin{tabular}{llllllllllllllllllll}\n AtBat & Hits & HmRun & Runs & RBI & Walks & Years & CAtBat & CHits & CHmRun & CRuns & CRBI & CWalks & League & Division & PutOuts & Assists & Errors & Salary & NewLeague\\\\\n <int> & <int> & <int> & <int> & <int> & <int> & <int> & <int> & <int> & <int> & <int> & <int> & <int> & <fct> & <fct> & <int> & <int> & <int> & <dbl> & <fct>\\\\\n\\hline\n\t 315 &  81 &  7 &  24 &  38 & 39 & 14 & 3449 &  835 &  69 &  321 &  414 & 375 & N & W &  632 &  43 & 10 &  475.000 & N\\\\\n\t 479 & 130 & 18 &  66 &  72 & 76 &  3 & 1624 &  457 &  63 &  224 &  266 & 263 & A & W &  880 &  82 & 14 &  480.000 & A\\\\\n\t 496 & 141 & 20 &  65 &  78 & 37 & 11 & 5628 & 1575 & 225 &  828 &  838 & 354 & N & E &  200 &  11 &  3 &  500.000 & N\\\\\n\t 321 &  87 & 10 &  39 &  42 & 30 &  2 &  396 &  101 &  12 &   48 &   46 &  33 & N & E &  805 &  40 &  4 &   91.500 & N\\\\\n\t 594 & 169 &  4 &  74 &  51 & 35 & 11 & 4408 & 1133 &  19 &  501 &  336 & 194 & A & W &  282 & 421 & 25 &  750.000 & A\\\\\n\t 185 &  37 &  1 &  23 &   8 & 21 &  2 &  214 &   42 &   1 &   30 &    9 &  24 & N & E &   76 & 127 &  7 &   70.000 & A\\\\\n\t 298 &  73 &  0 &  24 &  24 &  7 &  3 &  509 &  108 &   0 &   41 &   37 &  12 & A & W &  121 & 283 &  9 &  100.000 & A\\\\\n\t 323 &  81 &  6 &  26 &  32 &  8 &  2 &  341 &   86 &   6 &   32 &   34 &   8 & N & W &  143 & 290 & 19 &   75.000 & N\\\\\n\t 401 &  92 & 17 &  49 &  66 & 65 & 13 & 5206 & 1332 & 253 &  784 &  890 & 866 & A & E &    0 &   0 &  0 & 1100.000 & A\\\\\n\t 574 & 159 & 21 & 107 &  75 & 59 & 10 & 4631 & 1300 &  90 &  702 &  504 & 488 & A & E &  238 & 445 & 22 &  517.143 & A\\\\\n\t 202 &  53 &  4 &  31 &  26 & 27 &  9 & 1876 &  467 &  15 &  192 &  186 & 161 & N & W &  304 &  45 & 11 &  512.500 & N\\\\\n\t 418 & 113 & 13 &  48 &  61 & 47 &  4 & 1512 &  392 &  41 &  205 &  204 & 203 & N & E &  211 &  11 &  7 &  550.000 & N\\\\\n\t 239 &  60 &  0 &  30 &  11 & 22 &  6 & 1941 &  510 &   4 &  309 &  103 & 207 & A & E &  121 & 151 &  6 &  700.000 & A\\\\\n\t 196 &  43 &  7 &  29 &  27 & 30 & 13 & 3231 &  825 &  36 &  376 &  290 & 238 & N & E &   80 &  45 &  8 &  240.000 & N\\\\\n\t 568 & 158 & 20 &  89 &  75 & 73 & 15 & 8068 & 2273 & 177 & 1045 &  993 & 732 & N & W &  105 & 290 & 10 &  775.000 & N\\\\\n\t 190 &  46 &  2 &  24 &   8 & 15 &  5 &  479 &  102 &   5 &   65 &   23 &  39 & A & W &  102 & 177 & 16 &  175.000 & A\\\\\n\t 127 &  32 &  8 &  16 &  22 & 14 &  8 &  727 &  180 &  24 &   67 &   82 &  56 & N & W &  202 &  22 &  2 &  135.000 & N\\\\\n\t 413 &  92 & 16 &  72 &  48 & 65 &  1 &  413 &   92 &  16 &   72 &   48 &  65 & N & E &  280 &   9 &  5 &  100.000 & N\\\\\n\t 426 & 109 &  3 &  55 &  43 & 62 &  1 &  426 &  109 &   3 &   55 &   43 &  62 & A & W &  361 &  22 &  2 &  115.000 & N\\\\\n\t 472 & 116 & 16 &  60 &  62 & 74 &  6 & 1924 &  489 &  67 &  242 &  251 & 240 & N & W &  518 &  55 &  3 &  600.000 & N\\\\\n\t 629 & 168 & 18 &  73 & 102 & 40 & 18 & 8424 & 2464 & 164 & 1008 & 1072 & 402 & A & E & 1067 & 157 & 14 &  776.667 & A\\\\\n\t 587 & 163 &  4 &  92 &  51 & 70 &  6 & 2695 &  747 &  17 &  442 &  198 & 317 & A & E &  434 &   9 &  3 &  765.000 & A\\\\\n\t 324 &  73 &  4 &  32 &  18 & 22 &  7 & 1931 &  491 &  13 &  291 &  108 & 180 & N & E &  222 &   3 &  3 &  708.333 & N\\\\\n\t 474 & 129 & 10 &  50 &  56 & 40 & 10 & 2331 &  604 &  61 &  246 &  327 & 166 & N & W &  732 &  83 & 13 &  750.000 & N\\\\\n\t 550 & 152 &  6 &  92 &  37 & 81 &  5 & 2308 &  633 &  32 &  349 &  182 & 308 & N & W &  262 & 329 & 16 &  625.000 & N\\\\\n\t 513 & 137 & 20 &  90 &  95 & 90 & 14 & 5201 & 1382 & 166 &  763 &  734 & 784 & A & W &  267 &   5 &  3 &  900.000 & A\\\\\n\t 419 & 108 &  6 &  55 &  36 & 22 &  3 &  591 &  149 &   8 &   80 &   46 &  31 & N & W &  226 &   7 &  4 &  110.000 & N\\\\\n\t 583 & 168 & 17 &  83 &  80 & 56 &  5 & 1646 &  452 &  44 &  219 &  208 & 136 & A & E &  109 & 292 & 25 &  612.500 & A\\\\\n\t 204 &  49 &  6 &  23 &  25 & 12 &  7 & 1309 &  308 &  27 &  126 &  132 &  66 & A & W &  419 &  46 &  5 &  300.000 & A\\\\\n\t 379 & 106 & 10 &  38 &  60 & 30 & 14 & 6207 & 1906 & 146 &  859 &  803 & 571 & N & W &   72 & 170 & 24 &  850.000 & N\\\\\n\t ⋮ & ⋮ & ⋮ & ⋮ & ⋮ & ⋮ & ⋮ & ⋮ & ⋮ & ⋮ & ⋮ & ⋮ & ⋮ & ⋮ & ⋮ & ⋮ & ⋮ & ⋮ & ⋮ & ⋮\\\\\n\t 687 & 213 & 10 &  91 &  65 &  27 &  4 & 1518 &  448 &  15 &  196 &  137 &  89 & A & E &  294 & 445 & 13 &  350.000 & A\\\\\n\t 368 & 103 &  3 &  48 &  28 &  54 &  8 & 1897 &  493 &   9 &  207 &  162 & 198 & N & W &  209 & 246 &  3 &  326.667 & N\\\\\n\t 263 &  70 &  1 &  26 &  23 &  30 &  4 &  888 &  220 &   9 &   83 &   82 &  86 & N & E &   81 & 147 &  4 &  250.000 & N\\\\\n\t 642 & 211 & 14 & 107 &  59 &  52 &  5 & 2364 &  770 &  27 &  352 &  230 & 193 & N & W &  337 &  19 &  4 &  740.000 & N\\\\\n\t 265 &  68 &  8 &  26 &  30 &  29 &  7 & 1337 &  339 &  32 &  135 &  163 & 128 & N & W &   92 &   5 &  3 &  425.000 & A\\\\\n\t 559 & 141 &  2 &  48 &  61 &  73 &  8 & 3162 &  874 &  16 &  421 &  349 & 359 & N & E &  352 & 414 &  9 &  925.000 & N\\\\\n\t 520 & 120 & 17 &  53 &  44 &  21 &  4 &  927 &  227 &  22 &  106 &   80 &  52 & A & W &   70 & 144 & 11 &  185.000 & A\\\\\n\t  19 &   4 &  1 &   2 &   3 &   1 &  1 &   19 &    4 &   1 &    2 &    3 &   1 & N & W &  692 &  70 &  8 &  920.000 & A\\\\\n\t 205 &  43 &  2 &  24 &  17 &  20 &  7 &  854 &  219 &  12 &  105 &   99 &  71 & N & E &  131 &   6 &  1 &  286.667 & N\\\\\n\t 193 &  47 & 10 &  21 &  29 &  24 &  6 & 1136 &  256 &  42 &  129 &  139 & 106 & A & W &  299 &  13 &  5 &  245.000 & A\\\\\n\t 213 &  61 &  4 &  17 &  22 &   3 & 17 & 4061 & 1145 &  83 &  488 &  491 & 244 & A & W &  178 &  45 &  4 &  235.000 & A\\\\\n\t 510 & 147 & 10 &  56 &  52 &  53 &  7 & 2872 &  821 &  63 &  307 &  340 & 174 & N & E &  810 &  99 & 18 & 1150.000 & N\\\\\n\t 578 & 138 &  1 &  56 &  59 &  34 &  3 & 1399 &  357 &   7 &  149 &  161 &  87 & N & E &  133 & 371 & 20 &  160.000 & N\\\\\n\t 441 & 113 &  5 &  76 &  52 &  76 &  5 & 1546 &  397 &  17 &  226 &  149 & 191 & A & W &  160 & 290 & 11 &  425.000 & A\\\\\n\t 172 &  42 &  3 &  17 &  14 &  15 & 10 & 4086 & 1150 &  57 &  579 &  363 & 406 & N & W &   65 &   0 &  0 &  900.000 & N\\\\\n\t 127 &  32 &  4 &  14 &  25 &  12 & 19 & 8396 & 2402 & 242 & 1048 & 1348 & 819 & N & W &  167 &  18 &  6 &  500.000 & N\\\\\n\t 279 &  69 &  4 &  35 &  31 &  32 &  4 & 1359 &  355 &  31 &  180 &  148 & 158 & N & E &  133 & 173 &  9 &  277.500 & N\\\\\n\t 480 & 112 & 18 &  50 &  71 &  44 &  7 & 3031 &  771 & 110 &  338 &  406 & 239 & N & E &   94 & 270 & 16 &  750.000 & N\\\\\n\t 600 & 139 &  0 &  94 &  29 &  60 &  2 & 1236 &  309 &   1 &  201 &   69 & 110 & N & E &  300 &  12 &  9 &  160.000 & N\\\\\n\t 610 & 186 & 19 & 107 &  98 &  74 &  6 & 2728 &  753 &  69 &  399 &  366 & 286 & N & E & 1182 &  96 & 13 & 1300.000 & N\\\\\n\t 360 &  81 &  5 &  37 &  44 &  37 &  7 & 2268 &  566 &  41 &  279 &  257 & 246 & N & E &  170 & 284 &  3 &  525.000 & N\\\\\n\t 387 & 124 &  1 &  67 &  27 &  36 &  7 & 1775 &  506 &   6 &  272 &  125 & 194 & N & E &  186 & 290 & 17 &  550.000 & N\\\\\n\t 580 & 207 &  8 & 107 &  71 & 105 &  5 & 2778 &  978 &  32 &  474 &  322 & 417 & A & E &  121 & 267 & 19 & 1600.000 & A\\\\\n\t 408 & 117 & 11 &  66 &  41 &  34 &  1 &  408 &  117 &  11 &   66 &   41 &  34 & N & W &  942 &  72 & 11 &  120.000 & N\\\\\n\t 593 & 172 & 22 &  82 & 100 &  57 &  1 &  593 &  172 &  22 &   82 &  100 &  57 & A & W & 1222 & 139 & 15 &  165.000 & A\\\\\n\t 497 & 127 &  7 &  65 &  48 &  37 &  5 & 2703 &  806 &  32 &  379 &  311 & 138 & N & E &  325 &   9 &  3 &  700.000 & N\\\\\n\t 492 & 136 &  5 &  76 &  50 &  94 & 12 & 5511 & 1511 &  39 &  897 &  451 & 875 & A & E &  313 & 381 & 20 &  875.000 & A\\\\\n\t 475 & 126 &  3 &  61 &  43 &  52 &  6 & 1700 &  433 &   7 &  217 &   93 & 146 & A & W &   37 & 113 &  7 &  385.000 & A\\\\\n\t 573 & 144 &  9 &  85 &  60 &  78 &  8 & 3198 &  857 &  97 &  470 &  420 & 332 & A & E & 1314 & 131 & 12 &  960.000 & A\\\\\n\t 631 & 170 &  9 &  77 &  44 &  31 & 11 & 4908 & 1457 &  30 &  775 &  357 & 249 & A & W &  408 &   4 &  3 & 1000.000 & A\\\\\n\\end{tabular}\n",
            "text/plain": [
              "    AtBat Hits HmRun Runs RBI Walks Years CAtBat CHits CHmRun CRuns CRBI CWalks\n",
              "1   315    81   7     24   38 39    14    3449    835   69     321   414 375   \n",
              "2   479   130  18     66   72 76     3    1624    457   63     224   266 263   \n",
              "3   496   141  20     65   78 37    11    5628   1575  225     828   838 354   \n",
              "4   321    87  10     39   42 30     2     396    101   12      48    46  33   \n",
              "5   594   169   4     74   51 35    11    4408   1133   19     501   336 194   \n",
              "6   185    37   1     23    8 21     2     214     42    1      30     9  24   \n",
              "7   298    73   0     24   24  7     3     509    108    0      41    37  12   \n",
              "8   323    81   6     26   32  8     2     341     86    6      32    34   8   \n",
              "9   401    92  17     49   66 65    13    5206   1332  253     784   890 866   \n",
              "10  574   159  21    107   75 59    10    4631   1300   90     702   504 488   \n",
              "11  202    53   4     31   26 27     9    1876    467   15     192   186 161   \n",
              "12  418   113  13     48   61 47     4    1512    392   41     205   204 203   \n",
              "13  239    60   0     30   11 22     6    1941    510    4     309   103 207   \n",
              "14  196    43   7     29   27 30    13    3231    825   36     376   290 238   \n",
              "15  568   158  20     89   75 73    15    8068   2273  177    1045   993 732   \n",
              "16  190    46   2     24    8 15     5     479    102    5      65    23  39   \n",
              "17  127    32   8     16   22 14     8     727    180   24      67    82  56   \n",
              "18  413    92  16     72   48 65     1     413     92   16      72    48  65   \n",
              "19  426   109   3     55   43 62     1     426    109    3      55    43  62   \n",
              "20  472   116  16     60   62 74     6    1924    489   67     242   251 240   \n",
              "21  629   168  18     73  102 40    18    8424   2464  164    1008  1072 402   \n",
              "22  587   163   4     92   51 70     6    2695    747   17     442   198 317   \n",
              "23  324    73   4     32   18 22     7    1931    491   13     291   108 180   \n",
              "24  474   129  10     50   56 40    10    2331    604   61     246   327 166   \n",
              "25  550   152   6     92   37 81     5    2308    633   32     349   182 308   \n",
              "26  513   137  20     90   95 90    14    5201   1382  166     763   734 784   \n",
              "27  419   108   6     55   36 22     3     591    149    8      80    46  31   \n",
              "28  583   168  17     83   80 56     5    1646    452   44     219   208 136   \n",
              "29  204    49   6     23   25 12     7    1309    308   27     126   132  66   \n",
              "30  379   106  10     38   60 30    14    6207   1906  146     859   803 571   \n",
              "⋮   ⋮     ⋮    ⋮     ⋮    ⋮   ⋮     ⋮     ⋮      ⋮     ⋮      ⋮     ⋮    ⋮     \n",
              "234 687   213  10     91   65  27    4    1518    448   15     196   137  89   \n",
              "235 368   103   3     48   28  54    8    1897    493    9     207   162 198   \n",
              "236 263    70   1     26   23  30    4     888    220    9      83    82  86   \n",
              "237 642   211  14    107   59  52    5    2364    770   27     352   230 193   \n",
              "238 265    68   8     26   30  29    7    1337    339   32     135   163 128   \n",
              "239 559   141   2     48   61  73    8    3162    874   16     421   349 359   \n",
              "240 520   120  17     53   44  21    4     927    227   22     106    80  52   \n",
              "241  19     4   1      2    3   1    1      19      4    1       2     3   1   \n",
              "242 205    43   2     24   17  20    7     854    219   12     105    99  71   \n",
              "243 193    47  10     21   29  24    6    1136    256   42     129   139 106   \n",
              "244 213    61   4     17   22   3   17    4061   1145   83     488   491 244   \n",
              "245 510   147  10     56   52  53    7    2872    821   63     307   340 174   \n",
              "246 578   138   1     56   59  34    3    1399    357    7     149   161  87   \n",
              "247 441   113   5     76   52  76    5    1546    397   17     226   149 191   \n",
              "248 172    42   3     17   14  15   10    4086   1150   57     579   363 406   \n",
              "249 127    32   4     14   25  12   19    8396   2402  242    1048  1348 819   \n",
              "250 279    69   4     35   31  32    4    1359    355   31     180   148 158   \n",
              "251 480   112  18     50   71  44    7    3031    771  110     338   406 239   \n",
              "252 600   139   0     94   29  60    2    1236    309    1     201    69 110   \n",
              "253 610   186  19    107   98  74    6    2728    753   69     399   366 286   \n",
              "254 360    81   5     37   44  37    7    2268    566   41     279   257 246   \n",
              "255 387   124   1     67   27  36    7    1775    506    6     272   125 194   \n",
              "256 580   207   8    107   71 105    5    2778    978   32     474   322 417   \n",
              "257 408   117  11     66   41  34    1     408    117   11      66    41  34   \n",
              "258 593   172  22     82  100  57    1     593    172   22      82   100  57   \n",
              "259 497   127   7     65   48  37    5    2703    806   32     379   311 138   \n",
              "260 492   136   5     76   50  94   12    5511   1511   39     897   451 875   \n",
              "261 475   126   3     61   43  52    6    1700    433    7     217    93 146   \n",
              "262 573   144   9     85   60  78    8    3198    857   97     470   420 332   \n",
              "263 631   170   9     77   44  31   11    4908   1457   30     775   357 249   \n",
              "    League Division PutOuts Assists Errors Salary   NewLeague\n",
              "1   N      W         632     43     10      475.000 N        \n",
              "2   A      W         880     82     14      480.000 A        \n",
              "3   N      E         200     11      3      500.000 N        \n",
              "4   N      E         805     40      4       91.500 N        \n",
              "5   A      W         282    421     25      750.000 A        \n",
              "6   N      E          76    127      7       70.000 A        \n",
              "7   A      W         121    283      9      100.000 A        \n",
              "8   N      W         143    290     19       75.000 N        \n",
              "9   A      E           0      0      0     1100.000 A        \n",
              "10  A      E         238    445     22      517.143 A        \n",
              "11  N      W         304     45     11      512.500 N        \n",
              "12  N      E         211     11      7      550.000 N        \n",
              "13  A      E         121    151      6      700.000 A        \n",
              "14  N      E          80     45      8      240.000 N        \n",
              "15  N      W         105    290     10      775.000 N        \n",
              "16  A      W         102    177     16      175.000 A        \n",
              "17  N      W         202     22      2      135.000 N        \n",
              "18  N      E         280      9      5      100.000 N        \n",
              "19  A      W         361     22      2      115.000 N        \n",
              "20  N      W         518     55      3      600.000 N        \n",
              "21  A      E        1067    157     14      776.667 A        \n",
              "22  A      E         434      9      3      765.000 A        \n",
              "23  N      E         222      3      3      708.333 N        \n",
              "24  N      W         732     83     13      750.000 N        \n",
              "25  N      W         262    329     16      625.000 N        \n",
              "26  A      W         267      5      3      900.000 A        \n",
              "27  N      W         226      7      4      110.000 N        \n",
              "28  A      E         109    292     25      612.500 A        \n",
              "29  A      W         419     46      5      300.000 A        \n",
              "30  N      W          72    170     24      850.000 N        \n",
              "⋮   ⋮      ⋮        ⋮       ⋮       ⋮      ⋮        ⋮        \n",
              "234 A      E         294    445     13      350.000 A        \n",
              "235 N      W         209    246      3      326.667 N        \n",
              "236 N      E          81    147      4      250.000 N        \n",
              "237 N      W         337     19      4      740.000 N        \n",
              "238 N      W          92      5      3      425.000 A        \n",
              "239 N      E         352    414      9      925.000 N        \n",
              "240 A      W          70    144     11      185.000 A        \n",
              "241 N      W         692     70      8      920.000 A        \n",
              "242 N      E         131      6      1      286.667 N        \n",
              "243 A      W         299     13      5      245.000 A        \n",
              "244 A      W         178     45      4      235.000 A        \n",
              "245 N      E         810     99     18     1150.000 N        \n",
              "246 N      E         133    371     20      160.000 N        \n",
              "247 A      W         160    290     11      425.000 A        \n",
              "248 N      W          65      0      0      900.000 N        \n",
              "249 N      W         167     18      6      500.000 N        \n",
              "250 N      E         133    173      9      277.500 N        \n",
              "251 N      E          94    270     16      750.000 N        \n",
              "252 N      E         300     12      9      160.000 N        \n",
              "253 N      E        1182     96     13     1300.000 N        \n",
              "254 N      E         170    284      3      525.000 N        \n",
              "255 N      E         186    290     17      550.000 N        \n",
              "256 A      E         121    267     19     1600.000 A        \n",
              "257 N      W         942     72     11      120.000 N        \n",
              "258 A      W        1222    139     15      165.000 A        \n",
              "259 N      E         325      9      3      700.000 N        \n",
              "260 A      E         313    381     20      875.000 A        \n",
              "261 A      W          37    113      7      385.000 A        \n",
              "262 A      E        1314    131     12      960.000 A        \n",
              "263 A      W         408      4      3     1000.000 A        "
            ]
          },
          "metadata": {}
        }
      ]
    },
    {
      "cell_type": "markdown",
      "source": [
        "## Best Subset Selection\n",
        "Die Idee ist, dass wir aus allen möglichen Modellen einfach das beste auswählen. Also müssen wir alle Modelle fitten, die genau eine unabhängige Variable enthalten, alle Kombinationen mit zwei Variablen usw.\n",
        "\n",
        "Dafür gehen wir in drei Schritten vor:\n",
        "1. M0 wird gefittet: Ein Modell ohne unabhängige Variablen (Intercept-only, also der Mittelwert von Y)\n",
        "2. For k = 1, 2, ... p:\n",
        "Fitte alle Modelle, die genau k unabhängige Variablen haben und wähle das beste aus und nenne es Mk. \"Das beste\" ist hier das Modell mit dem kleinsten RSS (oder, was das gleiche ist: höchstem R²)\n",
        "3. Suche das insgesamt beste Modell aus. Dafür muss man ein Maß wählen (Crossvaliation-Error, Manows C, AIC, BIC oder adjusted R²)\n",
        "\n",
        "\n",
        "Dieser Algorithmus ist in der leaps-Library bereits implementiert und kann mit dem Befehl \"regsubset\" aufgerufen werden."
      ],
      "metadata": {
        "id": "sbfjQ4qTfj2l"
      },
      "id": "sbfjQ4qTfj2l"
    },
    {
      "cell_type": "code",
      "source": [
        "best_subset <- regsubsets(Salary ~ ., hitters, nvmax = 19)\n",
        "summary(best_subset)"
      ],
      "metadata": {
        "colab": {
          "base_uri": "https://localhost:8080/",
          "height": 1000
        },
        "id": "dSza8vXAiTrD",
        "outputId": "439cee2b-7a1b-4c89-c691-9398fa8c8a17"
      },
      "id": "dSza8vXAiTrD",
      "execution_count": 8,
      "outputs": [
        {
          "output_type": "display_data",
          "data": {
            "text/plain": [
              "Subset selection object\n",
              "Call: regsubsets.formula(Salary ~ ., hitters, nvmax = 19)\n",
              "19 Variables  (and intercept)\n",
              "           Forced in Forced out\n",
              "AtBat          FALSE      FALSE\n",
              "Hits           FALSE      FALSE\n",
              "HmRun          FALSE      FALSE\n",
              "Runs           FALSE      FALSE\n",
              "RBI            FALSE      FALSE\n",
              "Walks          FALSE      FALSE\n",
              "Years          FALSE      FALSE\n",
              "CAtBat         FALSE      FALSE\n",
              "CHits          FALSE      FALSE\n",
              "CHmRun         FALSE      FALSE\n",
              "CRuns          FALSE      FALSE\n",
              "CRBI           FALSE      FALSE\n",
              "CWalks         FALSE      FALSE\n",
              "LeagueN        FALSE      FALSE\n",
              "DivisionW      FALSE      FALSE\n",
              "PutOuts        FALSE      FALSE\n",
              "Assists        FALSE      FALSE\n",
              "Errors         FALSE      FALSE\n",
              "NewLeagueN     FALSE      FALSE\n",
              "1 subsets of each size up to 19\n",
              "Selection Algorithm: exhaustive\n",
              "          AtBat Hits HmRun Runs RBI Walks Years CAtBat CHits CHmRun CRuns CRBI\n",
              "1  ( 1 )  \" \"   \" \"  \" \"   \" \"  \" \" \" \"   \" \"   \" \"    \" \"   \" \"    \" \"   \"*\" \n",
              "2  ( 1 )  \" \"   \"*\"  \" \"   \" \"  \" \" \" \"   \" \"   \" \"    \" \"   \" \"    \" \"   \"*\" \n",
              "3  ( 1 )  \" \"   \"*\"  \" \"   \" \"  \" \" \" \"   \" \"   \" \"    \" \"   \" \"    \" \"   \"*\" \n",
              "4  ( 1 )  \" \"   \"*\"  \" \"   \" \"  \" \" \" \"   \" \"   \" \"    \" \"   \" \"    \" \"   \"*\" \n",
              "5  ( 1 )  \"*\"   \"*\"  \" \"   \" \"  \" \" \" \"   \" \"   \" \"    \" \"   \" \"    \" \"   \"*\" \n",
              "6  ( 1 )  \"*\"   \"*\"  \" \"   \" \"  \" \" \"*\"   \" \"   \" \"    \" \"   \" \"    \" \"   \"*\" \n",
              "7  ( 1 )  \" \"   \"*\"  \" \"   \" \"  \" \" \"*\"   \" \"   \"*\"    \"*\"   \"*\"    \" \"   \" \" \n",
              "8  ( 1 )  \"*\"   \"*\"  \" \"   \" \"  \" \" \"*\"   \" \"   \" \"    \" \"   \"*\"    \"*\"   \" \" \n",
              "9  ( 1 )  \"*\"   \"*\"  \" \"   \" \"  \" \" \"*\"   \" \"   \"*\"    \" \"   \" \"    \"*\"   \"*\" \n",
              "10  ( 1 ) \"*\"   \"*\"  \" \"   \" \"  \" \" \"*\"   \" \"   \"*\"    \" \"   \" \"    \"*\"   \"*\" \n",
              "11  ( 1 ) \"*\"   \"*\"  \" \"   \" \"  \" \" \"*\"   \" \"   \"*\"    \" \"   \" \"    \"*\"   \"*\" \n",
              "12  ( 1 ) \"*\"   \"*\"  \" \"   \"*\"  \" \" \"*\"   \" \"   \"*\"    \" \"   \" \"    \"*\"   \"*\" \n",
              "13  ( 1 ) \"*\"   \"*\"  \" \"   \"*\"  \" \" \"*\"   \" \"   \"*\"    \" \"   \" \"    \"*\"   \"*\" \n",
              "14  ( 1 ) \"*\"   \"*\"  \"*\"   \"*\"  \" \" \"*\"   \" \"   \"*\"    \" \"   \" \"    \"*\"   \"*\" \n",
              "15  ( 1 ) \"*\"   \"*\"  \"*\"   \"*\"  \" \" \"*\"   \" \"   \"*\"    \"*\"   \" \"    \"*\"   \"*\" \n",
              "16  ( 1 ) \"*\"   \"*\"  \"*\"   \"*\"  \"*\" \"*\"   \" \"   \"*\"    \"*\"   \" \"    \"*\"   \"*\" \n",
              "17  ( 1 ) \"*\"   \"*\"  \"*\"   \"*\"  \"*\" \"*\"   \" \"   \"*\"    \"*\"   \" \"    \"*\"   \"*\" \n",
              "18  ( 1 ) \"*\"   \"*\"  \"*\"   \"*\"  \"*\" \"*\"   \"*\"   \"*\"    \"*\"   \" \"    \"*\"   \"*\" \n",
              "19  ( 1 ) \"*\"   \"*\"  \"*\"   \"*\"  \"*\" \"*\"   \"*\"   \"*\"    \"*\"   \"*\"    \"*\"   \"*\" \n",
              "          CWalks LeagueN DivisionW PutOuts Assists Errors NewLeagueN\n",
              "1  ( 1 )  \" \"    \" \"     \" \"       \" \"     \" \"     \" \"    \" \"       \n",
              "2  ( 1 )  \" \"    \" \"     \" \"       \" \"     \" \"     \" \"    \" \"       \n",
              "3  ( 1 )  \" \"    \" \"     \" \"       \"*\"     \" \"     \" \"    \" \"       \n",
              "4  ( 1 )  \" \"    \" \"     \"*\"       \"*\"     \" \"     \" \"    \" \"       \n",
              "5  ( 1 )  \" \"    \" \"     \"*\"       \"*\"     \" \"     \" \"    \" \"       \n",
              "6  ( 1 )  \" \"    \" \"     \"*\"       \"*\"     \" \"     \" \"    \" \"       \n",
              "7  ( 1 )  \" \"    \" \"     \"*\"       \"*\"     \" \"     \" \"    \" \"       \n",
              "8  ( 1 )  \"*\"    \" \"     \"*\"       \"*\"     \" \"     \" \"    \" \"       \n",
              "9  ( 1 )  \"*\"    \" \"     \"*\"       \"*\"     \" \"     \" \"    \" \"       \n",
              "10  ( 1 ) \"*\"    \" \"     \"*\"       \"*\"     \"*\"     \" \"    \" \"       \n",
              "11  ( 1 ) \"*\"    \"*\"     \"*\"       \"*\"     \"*\"     \" \"    \" \"       \n",
              "12  ( 1 ) \"*\"    \"*\"     \"*\"       \"*\"     \"*\"     \" \"    \" \"       \n",
              "13  ( 1 ) \"*\"    \"*\"     \"*\"       \"*\"     \"*\"     \"*\"    \" \"       \n",
              "14  ( 1 ) \"*\"    \"*\"     \"*\"       \"*\"     \"*\"     \"*\"    \" \"       \n",
              "15  ( 1 ) \"*\"    \"*\"     \"*\"       \"*\"     \"*\"     \"*\"    \" \"       \n",
              "16  ( 1 ) \"*\"    \"*\"     \"*\"       \"*\"     \"*\"     \"*\"    \" \"       \n",
              "17  ( 1 ) \"*\"    \"*\"     \"*\"       \"*\"     \"*\"     \"*\"    \"*\"       \n",
              "18  ( 1 ) \"*\"    \"*\"     \"*\"       \"*\"     \"*\"     \"*\"    \"*\"       \n",
              "19  ( 1 ) \"*\"    \"*\"     \"*\"       \"*\"     \"*\"     \"*\"    \"*\"       "
            ]
          },
          "metadata": {}
        }
      ]
    },
    {
      "cell_type": "markdown",
      "source": [
        "Wir haben angegeben, dass wir bis zu 19 Variablen überprüfen wollen. Die Liste zeigt nun für jede Anzahl von Variablen von 1-19 welche Variablen im besten Modell sind."
      ],
      "metadata": {
        "id": "_MTzNpDmizqG"
      },
      "id": "_MTzNpDmizqG"
    },
    {
      "cell_type": "markdown",
      "source": [
        "## Stepwise\n",
        "Auch Stepwise-Regression kann mit regsubset ausgeführt werden:"
      ],
      "metadata": {
        "id": "-xlY2zXSjWdK"
      },
      "id": "-xlY2zXSjWdK"
    },
    {
      "cell_type": "code",
      "source": [
        "forward <- regsubsets(Salary ~ ., hitters, nvmax = 19, method = \"forward\")"
      ],
      "metadata": {
        "id": "dxCo40NGjidN"
      },
      "id": "dxCo40NGjidN",
      "execution_count": 9,
      "outputs": []
    },
    {
      "cell_type": "code",
      "source": [
        "backward <- regsubsets(Salary ~ ., hitters, nvmax = 19, method = \"backward\")"
      ],
      "metadata": {
        "id": "z57NMYo8jkf3"
      },
      "id": "z57NMYo8jkf3",
      "execution_count": 10,
      "outputs": []
    },
    {
      "cell_type": "markdown",
      "source": [
        "## Modelselection\n",
        "Aber welches ist nund das beste Modell? Dafür unterteilen wir die Daten in einen Trainings- und Testdatensatz und schauen uns den Test-RSS des Validation-Set-Approaches an.\n",
        "\n",
        "Zunächst berechnen wir aber R², BIC und C_p auf den Trainingsdaten."
      ],
      "metadata": {
        "id": "un3UrME_kLZc"
      },
      "id": "un3UrME_kLZc"
    },
    {
      "cell_type": "code",
      "source": [
        "# create training - testing data\n",
        "set.seed(123)\n",
        "sample <- sample(c(TRUE, FALSE), nrow(hitters), replace = T, prob = c(0.6,0.4))\n",
        "train <- hitters[sample, ]\n",
        "test <- hitters[!sample, ]\n",
        "\n",
        "# perform best subset selection\n",
        "best_subset <- regsubsets(Salary ~ ., train, nvmax = 19)\n",
        "results <- summary(best_subset)\n",
        "\n",
        "# extract and plot results\n",
        "tibble(predictors = 1:19,\n",
        "       adj_R2 = results$adjr2,\n",
        "       Cp = results$cp,\n",
        "       BIC = results$bic) %>%\n",
        "  gather(statistic, value, -predictors) %>%\n",
        "  ggplot(aes(predictors, value, color = statistic)) +\n",
        "  geom_line(show.legend = F) +\n",
        "  geom_point(show.legend = F) +\n",
        "  facet_wrap(~ statistic, scales = \"free\")"
      ],
      "metadata": {
        "colab": {
          "base_uri": "https://localhost:8080/",
          "height": 437
        },
        "id": "uVuFPg9HkrNR",
        "outputId": "466c5017-61cf-4db7-b2f7-0aaeebd153bb"
      },
      "id": "uVuFPg9HkrNR",
      "execution_count": 23,
      "outputs": [
        {
          "output_type": "display_data",
          "data": {
            "text/plain": [
              "plot without title"
            ],
            "image/png": "[encoded data removed]"
          },
          "metadata": {
            "image/png": {
              "width": 420,
              "height": 420
            }
          }
        }
      ]
    },
    {
      "cell_type": "markdown",
      "source": [
        "Der adjusted R² empfiehlt ein Modell mit 12 Variablen:"
      ],
      "metadata": {
        "id": "hdVFuhoQl8iX"
      },
      "id": "hdVFuhoQl8iX"
    },
    {
      "cell_type": "code",
      "source": [
        "which.max(results$adjr2)"
      ],
      "metadata": {
        "colab": {
          "base_uri": "https://localhost:8080/",
          "height": 34
        },
        "id": "YyWywIYklvuE",
        "outputId": "2527d397-0340-48d3-c511-bf900dfedb18"
      },
      "id": "YyWywIYklvuE",
      "execution_count": 14,
      "outputs": [
        {
          "output_type": "display_data",
          "data": {
            "text/html": [
              "12"
            ],
            "text/markdown": "12",
            "text/latex": "12",
            "text/plain": [
              "[1] 12"
            ]
          },
          "metadata": {}
        }
      ]
    },
    {
      "cell_type": "markdown",
      "source": [
        "### Aufgabe:\n",
        "Welche Modelle werden von BIC und C_p empfohlen?"
      ],
      "metadata": {
        "id": "EADugKWXmE7v"
      },
      "id": "EADugKWXmE7v"
    },
    {
      "cell_type": "markdown",
      "source": [
        "Wir sehen also, dass die Maße unterschiedliche Modelle empfehlen. Aber es kommt noch schlimmer: Bislang haben wir nur auf die best model selection geschaut.\n",
        "### Aufgabe:\n",
        "Wiederhole die obige Programmierung für forward und backward selection!"
      ],
      "metadata": {
        "id": "WHIgeQWlmj9i"
      },
      "id": "WHIgeQWlmj9i"
    },
    {
      "cell_type": "markdown",
      "source": [
        "Mit dem Befehl coef können wir sehen, welche Variablen in den jeweiligen Modellen ausgewählt wurden."
      ],
      "metadata": {
        "id": "U6FQM-_4m8Qp"
      },
      "id": "U6FQM-_4m8Qp"
    },
    {
      "cell_type": "code",
      "source": [
        "print(\"Best Subset\")\n",
        "coef(best_subset, 8) # model with 8 variables\n",
        "print(\"Forward\")\n",
        "coef(forward, 8)\n",
        "print(\"Backward\")\n",
        "coef(backward, 8)"
      ],
      "metadata": {
        "colab": {
          "base_uri": "https://localhost:8080/",
          "height": 176
        },
        "id": "w35z3-zrnGcy",
        "outputId": "7f9a7487-9174-4e9f-c4c5-831539721178"
      },
      "id": "w35z3-zrnGcy",
      "execution_count": 18,
      "outputs": [
        {
          "output_type": "stream",
          "name": "stdout",
          "text": [
            "[1] \"Best Subset\"\n"
          ]
        },
        {
          "output_type": "display_data",
          "data": {
            "text/html": [
              "<style>\n",
              ".dl-inline {width: auto; margin:0; padding: 0}\n",
              ".dl-inline>dt, .dl-inline>dd {float: none; width: auto; display: inline-block}\n",
              ".dl-inline>dt::after {content: \":\\0020\"; padding-right: .5ex}\n",
              ".dl-inline>dt:not(:first-of-type) {padding-left: .5ex}\n",
              "</style><dl class=dl-inline><dt>(Intercept)</dt><dd>9.76463181265285</dd><dt>Hits</dt><dd>1.19788607710444</dd><dt>Walks</dt><dd>1.64973536790396</dd><dt>CAtBat</dt><dd>-0.56423857728161</dd><dt>CHits</dt><dd>2.22245343499392</dd><dt>CHmRun</dt><dd>1.67989263137738</dd><dt>DivisionW</dt><dd>-93.1413114384464</dd><dt>PutOuts</dt><dd>0.362973396826278</dd><dt>Errors</dt><dd>5.3410751665358</dd></dl>\n"
            ],
            "text/markdown": "(Intercept)\n:   9.76463181265285Hits\n:   1.19788607710444Walks\n:   1.64973536790396CAtBat\n:   -0.56423857728161CHits\n:   2.22245343499392CHmRun\n:   1.67989263137738DivisionW\n:   -93.1413114384464PutOuts\n:   0.362973396826278Errors\n:   5.3410751665358\n\n",
            "text/latex": "\\begin{description*}\n\\item[(Intercept)] 9.76463181265285\n\\item[Hits] 1.19788607710444\n\\item[Walks] 1.64973536790396\n\\item[CAtBat] -0.56423857728161\n\\item[CHits] 2.22245343499392\n\\item[CHmRun] 1.67989263137738\n\\item[DivisionW] -93.1413114384464\n\\item[PutOuts] 0.362973396826278\n\\item[Errors] 5.3410751665358\n\\end{description*}\n",
            "text/plain": [
              "(Intercept)        Hits       Walks      CAtBat       CHits      CHmRun \n",
              "  9.7646318   1.1978861   1.6497354  -0.5642386   2.2224534   1.6798926 \n",
              "  DivisionW     PutOuts      Errors \n",
              "-93.1413114   0.3629734   5.3410752 "
            ]
          },
          "metadata": {}
        },
        {
          "output_type": "stream",
          "name": "stdout",
          "text": [
            "[1] \"Forwar\"\n"
          ]
        },
        {
          "output_type": "display_data",
          "data": {
            "text/html": [
              "<style>\n",
              ".dl-inline {width: auto; margin:0; padding: 0}\n",
              ".dl-inline>dt, .dl-inline>dd {float: none; width: auto; display: inline-block}\n",
              ".dl-inline>dt::after {content: \":\\0020\"; padding-right: .5ex}\n",
              ".dl-inline>dt:not(:first-of-type) {padding-left: .5ex}\n",
              "</style><dl class=dl-inline><dt>(Intercept)</dt><dd>117.152043398717</dd><dt>AtBat</dt><dd>-2.03392085494876</dd><dt>Hits</dt><dd>6.85491355561824</dd><dt>Walks</dt><dd>6.44066424751494</dd><dt>CRuns</dt><dd>0.704539071137962</dd><dt>CRBI</dt><dd>0.527323791548011</dd><dt>CWalks</dt><dd>-0.80660622656112</dd><dt>DivisionW</dt><dd>-123.779836608547</dd><dt>PutOuts</dt><dd>0.275389227992014</dd></dl>\n"
            ],
            "text/markdown": "(Intercept)\n:   117.152043398717AtBat\n:   -2.03392085494876Hits\n:   6.85491355561824Walks\n:   6.44066424751494CRuns\n:   0.704539071137962CRBI\n:   0.527323791548011CWalks\n:   -0.80660622656112DivisionW\n:   -123.779836608547PutOuts\n:   0.275389227992014\n\n",
            "text/latex": "\\begin{description*}\n\\item[(Intercept)] 117.152043398717\n\\item[AtBat] -2.03392085494876\n\\item[Hits] 6.85491355561824\n\\item[Walks] 6.44066424751494\n\\item[CRuns] 0.704539071137962\n\\item[CRBI] 0.527323791548011\n\\item[CWalks] -0.80660622656112\n\\item[DivisionW] -123.779836608547\n\\item[PutOuts] 0.275389227992014\n\\end{description*}\n",
            "text/plain": [
              " (Intercept)        AtBat         Hits        Walks        CRuns         CRBI \n",
              " 117.1520434   -2.0339209    6.8549136    6.4406642    0.7045391    0.5273238 \n",
              "      CWalks    DivisionW      PutOuts \n",
              "  -0.8066062 -123.7798366    0.2753892 "
            ]
          },
          "metadata": {}
        },
        {
          "output_type": "stream",
          "name": "stdout",
          "text": [
            "[1] \"Backward\"\n"
          ]
        },
        {
          "output_type": "display_data",
          "data": {
            "text/html": [
              "<style>\n",
              ".dl-inline {width: auto; margin:0; padding: 0}\n",
              ".dl-inline>dt, .dl-inline>dd {float: none; width: auto; display: inline-block}\n",
              ".dl-inline>dt::after {content: \":\\0020\"; padding-right: .5ex}\n",
              ".dl-inline>dt:not(:first-of-type) {padding-left: .5ex}\n",
              "</style><dl class=dl-inline><dt>(Intercept)</dt><dd>117.152043398717</dd><dt>AtBat</dt><dd>-2.03392085494876</dd><dt>Hits</dt><dd>6.85491355561823</dd><dt>Walks</dt><dd>6.44066424751494</dd><dt>CRuns</dt><dd>0.704539071137962</dd><dt>CRBI</dt><dd>0.527323791548011</dd><dt>CWalks</dt><dd>-0.80660622656112</dd><dt>DivisionW</dt><dd>-123.779836608547</dd><dt>PutOuts</dt><dd>0.275389227992014</dd></dl>\n"
            ],
            "text/markdown": "(Intercept)\n:   117.152043398717AtBat\n:   -2.03392085494876Hits\n:   6.85491355561823Walks\n:   6.44066424751494CRuns\n:   0.704539071137962CRBI\n:   0.527323791548011CWalks\n:   -0.80660622656112DivisionW\n:   -123.779836608547PutOuts\n:   0.275389227992014\n\n",
            "text/latex": "\\begin{description*}\n\\item[(Intercept)] 117.152043398717\n\\item[AtBat] -2.03392085494876\n\\item[Hits] 6.85491355561823\n\\item[Walks] 6.44066424751494\n\\item[CRuns] 0.704539071137962\n\\item[CRBI] 0.527323791548011\n\\item[CWalks] -0.80660622656112\n\\item[DivisionW] -123.779836608547\n\\item[PutOuts] 0.275389227992014\n\\end{description*}\n",
            "text/plain": [
              " (Intercept)        AtBat         Hits        Walks        CRuns         CRBI \n",
              " 117.1520434   -2.0339209    6.8549136    6.4406642    0.7045391    0.5273238 \n",
              "      CWalks    DivisionW      PutOuts \n",
              "  -0.8066062 -123.7798366    0.2753892 "
            ]
          },
          "metadata": {}
        }
      ]
    },
    {
      "cell_type": "markdown",
      "source": [
        "Um jetzt unsere Best-Subset-Selection auf dem Testdatensatz zu überprüfen, basteln wir zunächst eine Model-Matrix, in der alle möglichen Modelle mit den Koeffizienten hinterlegt sind.\n",
        "\n",
        "Dann können wir über die 19 Variablen loopen und die Test-Fehler berechnen."
      ],
      "metadata": {
        "id": "31HeiJRDpL8D"
      },
      "id": "31HeiJRDpL8D"
    },
    {
      "cell_type": "code",
      "source": [
        "test_m <- model.matrix(Salary ~ ., data = test)"
      ],
      "metadata": {
        "id": "4VzC4pGtoC09"
      },
      "id": "4VzC4pGtoC09",
      "execution_count": 19,
      "outputs": []
    },
    {
      "cell_type": "code",
      "source": [
        "# create empty vector to fill with error values\n",
        "validation_errors <- vector(\"double\", length = 19)\n",
        "\n",
        "for(i in 1:19) {\n",
        "  coef_x <- coef(best_subset, id = i)                     # extract coefficients for model size i\n",
        "  pred_x <- test_m[ , names(coef_x)] %*% coef_x           # predict salary using matrix algebra\n",
        "  validation_errors[i] <- mean((test$Salary - pred_x)^2)  # compute test error btwn actual & predicted salary\n",
        "}\n",
        "\n",
        "# plot validation errors\n",
        "plot(validation_errors, type = \"b\")"
      ],
      "metadata": {
        "colab": {
          "base_uri": "https://localhost:8080/",
          "height": 437
        },
        "id": "znOGkwWMoE7n",
        "outputId": "79c352b1-12d7-4430-eec9-57459bd691dd"
      },
      "id": "znOGkwWMoE7n",
      "execution_count": 21,
      "outputs": [
        {
          "output_type": "display_data",
          "data": {
            "text/plain": [
              "plot without title"
            ],
            "image/png": "[encoded data removed]"
          },
          "metadata": {
            "image/png": {
              "width": 420,
              "height": 420
            }
          }
        }
      ]
    },
    {
      "cell_type": "markdown",
      "source": [
        "Man sieht hier: Auch der Validation-Error ist relativ instabil. Wenn man einen anderen Wert bei set.seed einsetzt oder das Trainingsset verändert, kommen andere Werte raus.\n",
        "\n",
        "### Take-Away:\n",
        "Model-Selection ist immer abhängig von der Methode. Es gibt nicht \"das beste\" Modell!"
      ],
      "metadata": {
        "id": "u5yUIY4NpxT3"
      },
      "id": "u5yUIY4NpxT3"
    },
    {
      "cell_type": "markdown",
      "id": "65725295",
      "metadata": {
        "id": "65725295"
      },
      "source": [
        "## Bootstrapping\n",
        "Dieses Woche wollen wir uns auch noch mit dem Bootstrap näher befassen. Den Datensatz bauen wir einfach schnell selbst.\n",
        "\n",
        "Den Bootstrap-Algorithmus selbst nachzubauen, ist etwas anspruchsvoller von der Programmierung!"
      ]
    },
    {
      "cell_type": "code",
      "execution_count": 1,
      "id": "febbcfb2",
      "metadata": {
        "colab": {
          "base_uri": "https://localhost:8080/",
          "height": 639
        },
        "id": "febbcfb2",
        "outputId": "509b9403-8d72-4934-af33-b2300fe3b044"
      },
      "outputs": [
        {
          "output_type": "stream",
          "name": "stdout",
          "text": [
            "      [,1] [,2]\n",
            " [1,]    4  1.0\n",
            " [2,]    6  4.0\n",
            " [3,]    1  0.5\n",
            " [4,]   -4 -4.0\n",
            " [5,]   -2  1.0\n",
            " [6,]   10  3.5\n",
            " [7,]   -1  1.5\n",
            " [8,]    0 -2.5\n",
            " [9,]    8  6.0\n",
            "[10,]    5  3.5\n"
          ]
        },
        {
          "output_type": "display_data",
          "data": {
            "text/plain": [
              "Plot with title “Scatter-Plot X und Y”"
            ],
            "image/png": "[encoded data removed]"
          },
          "metadata": {
            "image/png": {
              "width": 420,
              "height": 420
            }
          }
        }
      ],
      "source": [
        "X =matrix(data=c(4,6, 1, -4,-2,10 ,-1, 0, 8, 5), nrow=10, ncol=1)\n",
        "Y =matrix(data=c(1,4,0.5,-4,1 ,3.5,1.5,-2.5, 6, 3.5), nrow=10, ncol=1)\n",
        "\n",
        "#\n",
        "D = cbind(X,Y)\n",
        "print(D)\n",
        "#\n",
        "plot(X,Y,\n",
        "    xlim = c(-5, 10),\n",
        "    ylim = c(-5, 10),\n",
        "    col = \"blue\",\n",
        "    main = \"Scatter-Plot X und Y\",\n",
        "    xlab = \"Werte der unabhängigen Variable X\",\n",
        "    ylab = \"Werte der abhängigen Variable Y\")"
      ]
    },
    {
      "cell_type": "markdown",
      "id": "60cf57a5",
      "metadata": {
        "id": "60cf57a5"
      },
      "source": [
        "## <font color='blue'> Aufgabe 1)\n",
        "\n",
        "<font color='blue'> \n",
        "    \n",
        "Zunächst möchten wir selbst einen Bootstrap berechnen. Dazu wollen wir wieder Schritt für Schritt eine Funktion dafür bauen."
      ]
    },
    {
      "cell_type": "markdown",
      "id": "4cf6fb05",
      "metadata": {
        "id": "4cf6fb05"
      },
      "source": [
        "Funktionen sind essenziell in der Programmierung, da wir so genau nachvollziehen können, welche Prozesse ablaufen und genau bestimmen können, was wir berechnen und ausgeben lassen wollen."
      ]
    },
    {
      "cell_type": "markdown",
      "id": "44a3b5b8",
      "metadata": {
        "id": "44a3b5b8"
      },
      "source": [
        "<font color='blue'>     \n",
        "a) Schreibe eine Funktion, der zwei Werte übergeben werden können: zum einen ein Datensatz und zum anderen ein Indexvektor.\n",
        "    \n",
        "    \n",
        "b) Innerhalb der Funktion soll nun auf den Datensatz mit dem im äußeren Teil der Funktion bestimmten Indexvektor zugegriffen werden.\n",
        "\n",
        "    \n",
        "c) Gebe dann die ganzen Datensatz aus\n",
        "    \n",
        "    \n",
        "Nun wollen wir die Funktion testen. \n",
        "\n",
        "d) Übergebt der Funktion als Datensatz den oben definierten Datensatz $D$.\n",
        "\n",
        "e) Wichtig um nun einen Bootstrap zu kreieren ist nun, was ihr dem Bootstrap als Indizes übergebt. Was passiert, wenn man als Index einen Wert eingibt? In welchem Bereich muss der Indexwert sein?\n",
        "\n",
        "f) Nutzt nun den Befehl $sample$ um die Indizes für einen Bootstrap zu bestimmen. Informiert euch über die Werte, die man dem Befehl $sample$ übergeben kann. Dazu ist $?sample$ hilfreich. Wie müssen die Parameter ausgestaltet sein? Was bedeutet \"Ziehen mit Zurücklegen\"?\n",
        "\n",
        "Weitere Hilfe und Information kann im Buch unter \"5.3.4 The Bootstrap\" ab S. 194 gefunden werden. "
      ]
    },
    {
      "cell_type": "code",
      "execution_count": null,
      "id": "542a8b36",
      "metadata": {
        "id": "542a8b36"
      },
      "outputs": [],
      "source": [
        "#a)"
      ]
    },
    {
      "cell_type": "code",
      "execution_count": null,
      "id": "01be834f",
      "metadata": {
        "id": "01be834f"
      },
      "outputs": [],
      "source": [
        "#b)"
      ]
    },
    {
      "cell_type": "code",
      "execution_count": null,
      "id": "fb18e021",
      "metadata": {
        "id": "fb18e021"
      },
      "outputs": [],
      "source": [
        "#c)"
      ]
    },
    {
      "cell_type": "code",
      "execution_count": null,
      "id": "f05c8573",
      "metadata": {
        "id": "f05c8573"
      },
      "outputs": [],
      "source": [
        "#d)"
      ]
    },
    {
      "cell_type": "code",
      "execution_count": null,
      "id": "f37e246f",
      "metadata": {
        "id": "f37e246f"
      },
      "outputs": [],
      "source": [
        "#e)"
      ]
    },
    {
      "cell_type": "code",
      "execution_count": null,
      "id": "e16835f4",
      "metadata": {
        "id": "e16835f4"
      },
      "outputs": [],
      "source": [
        "#f) "
      ]
    },
    {
      "cell_type": "markdown",
      "id": "303c7aaa",
      "metadata": {
        "id": "303c7aaa"
      },
      "source": [
        "## <font color='blue'> Aufgabe 2)\n",
        "\n",
        "<font color='blue'> \n",
        "Jetzt wollen wir die Funktion erweitern und eine Regression mit dem Bootstrap fitten und dann den Durchschnitt der Steigung, sowie des Intercepts berechnen.\n",
        "    \n",
        "    \n",
        "a) Bitte erweitert eure vorher geschriebene Funktion um einen Teil, in dem ihr eine Regression auf dem Datensatz erstellt, den ihr durch den Bootstrap erstellt habt. \n",
        "    \n",
        "b) Lasst euch in der Funktion auch den Intercept, sowie die berechnete Steigung der Regressionsgeraden ausrechnen und angeben. Tipps: Um einen Wert aus einer Funktion ausgeben zu lassen, kann man den $return$ Befehl verwenden. Um mehrere Werte ausgeben zu lassen, könnt ihr z.B. soetwas nutzen: $return(list(\"Intercept\" = Intercept, \"Steigung\" = Steigung))$.\n",
        "    \n",
        "    \n",
        "c) Probiert die Funktion nun mit Hilfe des Datensatzes $D$ aus.\n",
        "    \n",
        "    \n",
        "d) Nun möchten wir dieses Funktion öfter durchlaufen lassen (ich lasse sie 50 Mal durchlaufen) und die jeweils errechneten Werte für Intercept und Steigung in einer Liste abspeichern. Gegebenenfalls, müsst ihr dazu nochmal eure Funktion etwas verändern. Um eine Funktion mehrfach auszuführen, eignet sich u.a. der Befehl $sapply$. Nutzt gerne Foren oder den Befehl $?sapply$, um mehr über die Eigenschaften herauszufinden. Eine for-Schleife wäre ebenfalls möglich.\n",
        "\n",
        "\n",
        "    \n",
        "e) Im letzten Schritt möchten wir nun noch die Mittelwerte der berechneten Intercepts und Steigungen ermitteln.\n"
      ]
    },
    {
      "cell_type": "code",
      "execution_count": null,
      "id": "3e649bcb",
      "metadata": {
        "id": "3e649bcb"
      },
      "outputs": [],
      "source": [
        "#a)"
      ]
    },
    {
      "cell_type": "code",
      "execution_count": null,
      "id": "ac6c5be7",
      "metadata": {
        "id": "ac6c5be7"
      },
      "outputs": [],
      "source": [
        "#b)"
      ]
    },
    {
      "cell_type": "code",
      "execution_count": null,
      "id": "244b9fb2",
      "metadata": {
        "id": "244b9fb2"
      },
      "outputs": [],
      "source": [
        "#c)"
      ]
    },
    {
      "cell_type": "code",
      "execution_count": null,
      "id": "7df5605b",
      "metadata": {
        "id": "7df5605b"
      },
      "outputs": [],
      "source": [
        "#d)"
      ]
    },
    {
      "cell_type": "code",
      "execution_count": null,
      "id": "fc9e014b",
      "metadata": {
        "id": "fc9e014b"
      },
      "outputs": [],
      "source": [
        "#e)"
      ]
    },
    {
      "cell_type": "markdown",
      "id": "c7a8619c",
      "metadata": {
        "id": "c7a8619c"
      },
      "source": [
        "## <font color='blue'> Aufgabe 3)\n",
        "\n",
        "<font color='blue'> \n",
        "Seht euch bitte zusätzlich den Befehl $boot()$ und seine Parameter an. Dazu könnt ihr auch im Buch nachlesen."
      ]
    },
    {
      "cell_type": "code",
      "execution_count": 4,
      "id": "eedd5cd0",
      "metadata": {
        "colab": {
          "base_uri": "https://localhost:8080/"
        },
        "id": "eedd5cd0",
        "outputId": "3d6ec9a5-73cc-4d4a-915e-1e0beb271741"
      },
      "outputs": [
        {
          "output_type": "stream",
          "name": "stderr",
          "text": [
            "Installing package into ‘/usr/local/lib/R/site-library’\n",
            "(as ‘lib’ is unspecified)\n",
            "\n"
          ]
        }
      ],
      "source": [
        "install.packages(\"boot\")\n",
        "library(\"boot\")"
      ]
    },
    {
      "cell_type": "code",
      "execution_count": 5,
      "id": "e97c35b2",
      "metadata": {
        "id": "e97c35b2"
      },
      "outputs": [],
      "source": [
        "?boot"
      ]
    },
    {
      "cell_type": "markdown",
      "id": "b6b4191c",
      "metadata": {
        "id": "b6b4191c"
      },
      "source": [
        "### <font color='darkorange'> Zugehörige Seiten in der Pflichtlektüre: </font> \n",
        "Ab \"5.3.4 The Bootstrap\", S.194"
      ]
    },
    {
      "cell_type": "code",
      "execution_count": null,
      "id": "2a15568a",
      "metadata": {
        "id": "2a15568a"
      },
      "outputs": [],
      "source": [
        ""
      ]
    }
  ],
  "metadata": {
    "kernelspec": {
      "display_name": "R",
      "language": "R",
      "name": "ir"
    },
    "language_info": {
      "codemirror_mode": "r",
      "file_extension": ".r",
      "mimetype": "text/x-r-source",
      "name": "R",
      "pygments_lexer": "r",
      "version": "3.6.1"
    },
    "colab": {
      "name": "6_Da_Notebook_Model_Selection.ipynb",
      "provenance": [],
      "include_colab_link": true
    }
  },
  "nbformat": 4,
  "nbformat_minor": 5
}