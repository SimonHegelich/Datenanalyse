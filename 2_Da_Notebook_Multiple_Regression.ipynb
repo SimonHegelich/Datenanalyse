{
  "cells": [
    {
      "cell_type": "markdown",
      "metadata": {
        "id": "view-in-github",
        "colab_type": "text"
      },
      "source": [
        "<a href=\"https://colab.research.google.com/github/SimonHegelich/Datenanalyse/blob/main/2_Da_Notebook_Multiple_Regression.ipynb\" target=\"_parent\"><img src=\"https://colab.research.google.com/assets/colab-badge.svg\" alt=\"Open In Colab\"/></a>"
      ]
    },
    {
      "cell_type": "markdown",
      "id": "fa01e007",
      "metadata": {
        "id": "fa01e007"
      },
      "source": [
        "# Programmierübung: <font color='darkorange'> Multiple Regression </font>\n",
        "\n",
        "##### <font color='darkorange'> Datenanalyse, Sommersemester 2022, Lehrstuhl für Political Data Science </font>\n",
        "###### <font color='grey'> Disclaimer: Dieses Jupyter Notebooks sind als zusätzliches Material gedacht. Daher ersetzen sie nicht die Inhalte der Vorlesung oder Übung. Auch bilden sie nicht vollständig die Befehle ab, die in der Pflichtlektüre eingeführt werden und ersetzen diese damit nicht. Die zusätzlichen Links, die zur Verfügung gestellt werden, dienen als hilfreiche Stützen, allerdings wird ihre Vollständigkeit und Korrektheit nicht überprüft. </font>"
      ]
    },
    {
      "cell_type": "markdown",
      "id": "08d05308",
      "metadata": {
        "id": "08d05308"
      },
      "source": [
        "## Eine Multiple Regression fitten"
      ]
    },
    {
      "cell_type": "markdown",
      "id": "02cf605d",
      "metadata": {
        "id": "02cf605d"
      },
      "source": [
        "Betrachten wir nun noch einmal den Datensatz von letzter Woche.\n",
        "\n",
        "Die Daten habe ich von dieser Webseite herunter geladen: [Wirtschaftsdatensatz](https://www.destatis.de/DE/Themen/Wirtschaft/Volkswirtschaftliche-Gesamtrechnungen-Inlandsprodukt/Tabellen/inlandsprodukt-volkseinkommen1925-pdf.html)\n",
        "\n",
        "Wir laden ihn aber wieder über GitHub.\n",
        "\n",
        "Genauere Informationen zu den Variablenabkürzungen und für was diese stehen, habe ich in der unteren Tabelle zusammengestellt:\n",
        "\n",
        "| Variablennamen | Inhalt der Variablen | \n",
        "| :- | -: |\n",
        "| Jahr | Jahr der Erhebung; durch Kombinierung der Datensätze von 1925 bis 2020 | \n",
        "| BIP | Bruttoinlandsprodukt | \n",
        "| BIP_Prozent | Bruttoinlandsprodukt in Prozent | \n",
        "| BN_Produkt | Bruttoinlandsprodukt in den jeweiligen Preisen, in Mrd. Euro | \n",
        "| BN_Einkommen | Bruttonationaleinkommen in jeweiligen Preisen, in Mrd. Euro | \n",
        "| Volkseinkommen | Volkseinkommen in jeweiligen Preisen, in Mrd. Euro |\n",
        "| BIP_pro_Kopf | Bruttoinlandsprodukt in jeweiligen Preisen je Einwohner, in Euro |\n",
        "| BN_Einkommen_pro_Kopf |  Bruttonationaleinkommen in jeweiligen Preisen je Einwohner, in Euro | \n",
        "| Volkseinkommen_pro_Kopf |  Volkseinkommen in jeweiligen Preisen je Einwohner, in Euro | "
      ]
    },
    {
      "cell_type": "code",
      "execution_count": null,
      "id": "91352291",
      "metadata": {
        "id": "91352291"
      },
      "outputs": [],
      "source": [
        "Wirtschaft = read.table(file = \"https://github.com/SimonHegelich/Datenanalyse/raw/main/Wirtschaftsdaten_complete.txt\", sep = \"\", header = TRUE, dec = \",\")\n",
        "#dec gibt den Trenner von Dezimalzahlen an: in Deutschland wird ein , verwendet, in vielen anderen Ländern ein ."
      ]
    },
    {
      "cell_type": "code",
      "execution_count": null,
      "id": "02de66c4",
      "metadata": {
        "id": "02de66c4"
      },
      "outputs": [],
      "source": [
        "Wirtschaft <- Wirtschaft[-c(86),]"
      ]
    },
    {
      "cell_type": "markdown",
      "id": "f403a2e5",
      "metadata": {
        "id": "f403a2e5"
      },
      "source": [
        "## <font color='blue'> Aufgabe 1)\n",
        "\n",
        "<font color='blue'>\n",
        "a) Bitte verkleinert zunächst nochmal den Datensatz auf die Jahre ab 1950.\n",
        "    \n",
        "b) Nun soll eine multiple lineare Regression gefittet werden. Dabei soll die abhängige Variable $Jahr$ sein. \n",
        "    \n",
        "   Der Befehl für eine multiple Regression in R ist $lm(y$ ~ $x_1 + x_2 + ... + x_3)$ \n",
        "    Bitte gib auch eine Übersicht über die Regression aus. \n",
        "\n",
        "c) Welche Koeffizienten haben die einzelnen Variablen. Was sagt das Vorzeichen der Koeffizienten über den Zusammenhang mit der abhängigen Variable aus?\n",
        "    \n",
        "d) Was bedeutet der Multiple R-squared Wert in diesem Fall? Wie aussagekräftig ist er? Welche Probleme könnten dabei auftreten?\n",
        "    \n",
        "e) Bei der Angabe der Koeffizienten steht hinten häufig $e-01$, $e-02$ oder auch $e-03$. Was bedeutet das? Wie können die Zahlenwerte noch geschrieben werden?"
      ]
    },
    {
      "cell_type": "code",
      "execution_count": null,
      "id": "1be1ab3d",
      "metadata": {
        "id": "1be1ab3d"
      },
      "outputs": [],
      "source": [
        ""
      ]
    },
    {
      "cell_type": "code",
      "execution_count": null,
      "id": "dd5d212a",
      "metadata": {
        "id": "dd5d212a"
      },
      "outputs": [],
      "source": [
        ""
      ]
    },
    {
      "cell_type": "code",
      "execution_count": null,
      "id": "b90fcb95",
      "metadata": {
        "id": "b90fcb95"
      },
      "outputs": [],
      "source": [
        ""
      ]
    },
    {
      "cell_type": "code",
      "execution_count": null,
      "id": "7a307160",
      "metadata": {
        "id": "7a307160"
      },
      "outputs": [],
      "source": [
        ""
      ]
    },
    {
      "cell_type": "code",
      "execution_count": null,
      "id": "accb47a0",
      "metadata": {
        "id": "accb47a0"
      },
      "outputs": [],
      "source": [
        ""
      ]
    },
    {
      "cell_type": "markdown",
      "id": "0a3cc35f",
      "metadata": {
        "id": "0a3cc35f"
      },
      "source": [
        "## Weiterführende Betrachtungen"
      ]
    },
    {
      "cell_type": "markdown",
      "id": "3f1f5ee5",
      "metadata": {
        "id": "3f1f5ee5"
      },
      "source": [
        "Wir haben mithilfe der Multiplen Regression nun einen sehr guten Multiplen R-Squared Wert erhalten. Bei mir: $0.9889$. Nun möchte ich aber noch einige Überlegungen anstellen."
      ]
    },
    {
      "cell_type": "markdown",
      "id": "f20c33e1",
      "metadata": {
        "id": "f20c33e1"
      },
      "source": [
        "## <font color='blue'> Aufgabe 2)\n",
        "\n",
        "<font color='blue'>\n",
        "a) Oben haben wir bereits die Koeffizienten betrachtet. Bitte fittet nun für jeden der Koeffizienten mit negativem Vorzeichen eine eigene Regression.\n",
        "    \n",
        "b) Plottet jeweils eine unabhängige und die abhängige Variable, aber in einem Fenster. Dabei soll die abhängige Variable $Jahr$ auf der y-Achse eingetragen werden. "
      ]
    },
    {
      "cell_type": "code",
      "execution_count": null,
      "id": "8c2d25c0",
      "metadata": {
        "id": "8c2d25c0"
      },
      "outputs": [],
      "source": [
        ""
      ]
    },
    {
      "cell_type": "code",
      "execution_count": null,
      "id": "deee2897",
      "metadata": {
        "id": "deee2897"
      },
      "outputs": [],
      "source": [
        ""
      ]
    },
    {
      "cell_type": "markdown",
      "id": "b43b16c8",
      "metadata": {
        "id": "b43b16c8"
      },
      "source": [
        "<font color='blue'>\n",
        "c) Betrachte nun den visualisierten Zusammenhang der einzelnen unabhängigen Variablen mit der abhängigen Variable. Wie müsste die Regressionsgerade aussehen? Welches Vorzeichen müsste die Steigung haben?"
      ]
    },
    {
      "cell_type": "markdown",
      "id": "55e953c8",
      "metadata": {
        "id": "55e953c8"
      },
      "source": [
        "2.c)"
      ]
    },
    {
      "cell_type": "markdown",
      "id": "1f5ab0a8",
      "metadata": {
        "id": "1f5ab0a8"
      },
      "source": [
        "<font color='blue'>\n",
        "d) Gebe nun für jede der gefitteten Regressionen die Koeffizienten, sowie den R-Squared Wert an. (Dafür könnte ihr $\\$coefficients$ und $\\$$ hinter die Regression setzen.\n",
        "    Inwiefern passen diese Werte zu den Beobachtungen, die in 2c) gemacht wurden? "
      ]
    },
    {
      "cell_type": "code",
      "execution_count": null,
      "id": "8d54b66f",
      "metadata": {
        "id": "8d54b66f"
      },
      "outputs": [],
      "source": [
        ""
      ]
    },
    {
      "cell_type": "markdown",
      "id": "094e0081",
      "metadata": {
        "id": "094e0081"
      },
      "source": [
        "## <font color='blue'> Aufgabe 3)\n",
        "\n",
        "<font color='blue'>\n",
        "Einige der Koeffizienten haben sich, im Vergleich zur multiplen Regression verändert, wenn man sie einzeln die Variable $Jahr$ beschreiben lässt. Woher könnte diese Veränderung kommen? Warum hat sich das Vorzeichen verändert? Ist die angegebene Multiple Regression dann überhaupt sinnvoll?"
      ]
    },
    {
      "cell_type": "code",
      "execution_count": null,
      "id": "1582d40d",
      "metadata": {
        "id": "1582d40d"
      },
      "outputs": [],
      "source": [
        ""
      ]
    }
  ],
  "metadata": {
    "kernelspec": {
      "display_name": "R",
      "language": "R",
      "name": "ir"
    },
    "language_info": {
      "codemirror_mode": "r",
      "file_extension": ".r",
      "mimetype": "text/x-r-source",
      "name": "R",
      "pygments_lexer": "r",
      "version": "3.6.1"
    },
    "colab": {
      "name": "2_Da_Notebook_Multiple_Regression.ipynb",
      "provenance": [],
      "include_colab_link": true
    }
  },
  "nbformat": 4,
  "nbformat_minor": 5
}